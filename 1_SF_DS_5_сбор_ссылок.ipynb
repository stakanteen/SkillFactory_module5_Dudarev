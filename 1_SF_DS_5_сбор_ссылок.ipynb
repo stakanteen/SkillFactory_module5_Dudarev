{
 "cells": [
  {
   "cell_type": "markdown",
   "metadata": {},
   "source": [
    "### Импортируем бибилиотеки"
   ]
  },
  {
   "cell_type": "code",
   "execution_count": 1,
   "metadata": {},
   "outputs": [],
   "source": [
    "import pandas as pd\n",
    "import numpy as np\n",
    "import requests\n",
    "from bs4 import BeautifulSoup\n",
    "from selenium import webdriver\n",
    "import time"
   ]
  },
  {
   "cell_type": "markdown",
   "metadata": {},
   "source": [
    "Импортируем тестовый датасет, чтобы посомтреть что внутри и какие признаки понадобятся"
   ]
  },
  {
   "cell_type": "code",
   "execution_count": 11,
   "metadata": {
    "scrolled": true
   },
   "outputs": [
    {
     "name": "stdout",
     "output_type": "stream",
     "text": [
      "Признаки\n",
      "Index(['bodyType', 'brand', 'car_url', 'color', 'complectation_dict',\n",
      "       'description', 'engineDisplacement', 'enginePower', 'equipment_dict',\n",
      "       'fuelType', 'image', 'mileage', 'modelDate', 'model_info', 'model_name',\n",
      "       'name', 'numberOfDoors', 'parsing_unixtime', 'priceCurrency',\n",
      "       'productionDate', 'sell_id', 'super_gen', 'vehicleConfiguration',\n",
      "       'vehicleTransmission', 'vendor', 'Владельцы', 'Владение', 'ПТС',\n",
      "       'Привод', 'Руль', 'Состояние', 'Таможня'],\n",
      "      dtype='object')\n",
      "Датасет:\n"
     ]
    },
    {
     "data": {
      "text/html": [
       "<div>\n",
       "<style scoped>\n",
       "    .dataframe tbody tr th:only-of-type {\n",
       "        vertical-align: middle;\n",
       "    }\n",
       "\n",
       "    .dataframe tbody tr th {\n",
       "        vertical-align: top;\n",
       "    }\n",
       "\n",
       "    .dataframe thead th {\n",
       "        text-align: right;\n",
       "    }\n",
       "</style>\n",
       "<table border=\"1\" class=\"dataframe\">\n",
       "  <thead>\n",
       "    <tr style=\"text-align: right;\">\n",
       "      <th></th>\n",
       "      <th>bodyType</th>\n",
       "      <th>brand</th>\n",
       "      <th>car_url</th>\n",
       "      <th>color</th>\n",
       "      <th>complectation_dict</th>\n",
       "      <th>description</th>\n",
       "      <th>engineDisplacement</th>\n",
       "      <th>enginePower</th>\n",
       "      <th>equipment_dict</th>\n",
       "      <th>fuelType</th>\n",
       "      <th>...</th>\n",
       "      <th>vehicleConfiguration</th>\n",
       "      <th>vehicleTransmission</th>\n",
       "      <th>vendor</th>\n",
       "      <th>Владельцы</th>\n",
       "      <th>Владение</th>\n",
       "      <th>ПТС</th>\n",
       "      <th>Привод</th>\n",
       "      <th>Руль</th>\n",
       "      <th>Состояние</th>\n",
       "      <th>Таможня</th>\n",
       "    </tr>\n",
       "  </thead>\n",
       "  <tbody>\n",
       "    <tr>\n",
       "      <th>0</th>\n",
       "      <td>лифтбек</td>\n",
       "      <td>SKODA</td>\n",
       "      <td>https://auto.ru/cars/used/sale/skoda/octavia/1...</td>\n",
       "      <td>синий</td>\n",
       "      <td>NaN</td>\n",
       "      <td>Все автомобили, представленные в продаже, прох...</td>\n",
       "      <td>1.2 LTR</td>\n",
       "      <td>105 N12</td>\n",
       "      <td>{\"engine-proof\":true,\"tinted-glass\":true,\"airb...</td>\n",
       "      <td>бензин</td>\n",
       "      <td>...</td>\n",
       "      <td>LIFTBACK ROBOT 1.2</td>\n",
       "      <td>роботизированная</td>\n",
       "      <td>EUROPEAN</td>\n",
       "      <td>3 или более</td>\n",
       "      <td>NaN</td>\n",
       "      <td>Оригинал</td>\n",
       "      <td>передний</td>\n",
       "      <td>Левый</td>\n",
       "      <td>Не требует ремонта</td>\n",
       "      <td>Растаможен</td>\n",
       "    </tr>\n",
       "    <tr>\n",
       "      <th>1</th>\n",
       "      <td>лифтбек</td>\n",
       "      <td>SKODA</td>\n",
       "      <td>https://auto.ru/cars/used/sale/skoda/octavia/1...</td>\n",
       "      <td>чёрный</td>\n",
       "      <td>NaN</td>\n",
       "      <td>ЛОТ: 01217195\\nАвтопрага Север\\nДанный автомоб...</td>\n",
       "      <td>1.6 LTR</td>\n",
       "      <td>110 N12</td>\n",
       "      <td>{\"cruise-control\":true,\"asr\":true,\"esp\":true,\"...</td>\n",
       "      <td>бензин</td>\n",
       "      <td>...</td>\n",
       "      <td>LIFTBACK MECHANICAL 1.6</td>\n",
       "      <td>механическая</td>\n",
       "      <td>EUROPEAN</td>\n",
       "      <td>1 владелец</td>\n",
       "      <td>NaN</td>\n",
       "      <td>Оригинал</td>\n",
       "      <td>передний</td>\n",
       "      <td>Левый</td>\n",
       "      <td>Не требует ремонта</td>\n",
       "      <td>Растаможен</td>\n",
       "    </tr>\n",
       "    <tr>\n",
       "      <th>2</th>\n",
       "      <td>лифтбек</td>\n",
       "      <td>SKODA</td>\n",
       "      <td>https://auto.ru/cars/used/sale/skoda/superb/11...</td>\n",
       "      <td>серый</td>\n",
       "      <td>{\"id\":\"20026336\",\"name\":\"Ambition\",\"available_...</td>\n",
       "      <td>Все автомобили, представленные в продаже, прох...</td>\n",
       "      <td>1.8 LTR</td>\n",
       "      <td>152 N12</td>\n",
       "      <td>{\"cruise-control\":true,\"tinted-glass\":true,\"es...</td>\n",
       "      <td>бензин</td>\n",
       "      <td>...</td>\n",
       "      <td>LIFTBACK ROBOT 1.8</td>\n",
       "      <td>роботизированная</td>\n",
       "      <td>EUROPEAN</td>\n",
       "      <td>1 владелец</td>\n",
       "      <td>NaN</td>\n",
       "      <td>Оригинал</td>\n",
       "      <td>передний</td>\n",
       "      <td>Левый</td>\n",
       "      <td>Не требует ремонта</td>\n",
       "      <td>Растаможен</td>\n",
       "    </tr>\n",
       "    <tr>\n",
       "      <th>3</th>\n",
       "      <td>лифтбек</td>\n",
       "      <td>SKODA</td>\n",
       "      <td>https://auto.ru/cars/used/sale/skoda/octavia/1...</td>\n",
       "      <td>коричневый</td>\n",
       "      <td>{\"id\":\"20803582\",\"name\":\"Ambition\",\"available_...</td>\n",
       "      <td>КОМПЛЕКТ ЗИМНЕЙ (ЛЕТНЕЙ) РЕЗИНЫ ПО СЕЗОНУ В ПО...</td>\n",
       "      <td>1.6 LTR</td>\n",
       "      <td>110 N12</td>\n",
       "      <td>{\"cruise-control\":true,\"roller-blind-for-rear-...</td>\n",
       "      <td>бензин</td>\n",
       "      <td>...</td>\n",
       "      <td>LIFTBACK AUTOMATIC 1.6</td>\n",
       "      <td>автоматическая</td>\n",
       "      <td>EUROPEAN</td>\n",
       "      <td>1 владелец</td>\n",
       "      <td>NaN</td>\n",
       "      <td>Оригинал</td>\n",
       "      <td>передний</td>\n",
       "      <td>Левый</td>\n",
       "      <td>Не требует ремонта</td>\n",
       "      <td>Растаможен</td>\n",
       "    </tr>\n",
       "    <tr>\n",
       "      <th>4</th>\n",
       "      <td>лифтбек</td>\n",
       "      <td>SKODA</td>\n",
       "      <td>https://auto.ru/cars/used/sale/skoda/octavia/1...</td>\n",
       "      <td>белый</td>\n",
       "      <td>NaN</td>\n",
       "      <td>ЛОТ: 01220889\\nАвтопрага Север\\n\\nВы можете по...</td>\n",
       "      <td>1.8 LTR</td>\n",
       "      <td>152 N12</td>\n",
       "      <td>{\"cruise-control\":true,\"asr\":true,\"esp\":true,\"...</td>\n",
       "      <td>бензин</td>\n",
       "      <td>...</td>\n",
       "      <td>LIFTBACK AUTOMATIC 1.8</td>\n",
       "      <td>автоматическая</td>\n",
       "      <td>EUROPEAN</td>\n",
       "      <td>1 владелец</td>\n",
       "      <td>NaN</td>\n",
       "      <td>Оригинал</td>\n",
       "      <td>передний</td>\n",
       "      <td>Левый</td>\n",
       "      <td>Не требует ремонта</td>\n",
       "      <td>Растаможен</td>\n",
       "    </tr>\n",
       "    <tr>\n",
       "      <th>...</th>\n",
       "      <td>...</td>\n",
       "      <td>...</td>\n",
       "      <td>...</td>\n",
       "      <td>...</td>\n",
       "      <td>...</td>\n",
       "      <td>...</td>\n",
       "      <td>...</td>\n",
       "      <td>...</td>\n",
       "      <td>...</td>\n",
       "      <td>...</td>\n",
       "      <td>...</td>\n",
       "      <td>...</td>\n",
       "      <td>...</td>\n",
       "      <td>...</td>\n",
       "      <td>...</td>\n",
       "      <td>...</td>\n",
       "      <td>...</td>\n",
       "      <td>...</td>\n",
       "      <td>...</td>\n",
       "      <td>...</td>\n",
       "      <td>...</td>\n",
       "    </tr>\n",
       "    <tr>\n",
       "      <th>34681</th>\n",
       "      <td>седан</td>\n",
       "      <td>BMW</td>\n",
       "      <td>https://auto.ru/cars/used/sale/bmw/3er/1101369...</td>\n",
       "      <td>коричневый</td>\n",
       "      <td>NaN</td>\n",
       "      <td>Продается BMW 316i в отличном состоянии. Прода...</td>\n",
       "      <td>1.6 LTR</td>\n",
       "      <td>136 N12</td>\n",
       "      <td>{\"cruise-control\":true,\"asr\":true,\"tinted-glas...</td>\n",
       "      <td>бензин</td>\n",
       "      <td>...</td>\n",
       "      <td>SEDAN AUTOMATIC 1.6</td>\n",
       "      <td>автоматическая</td>\n",
       "      <td>EUROPEAN</td>\n",
       "      <td>3 или более</td>\n",
       "      <td>2 года и 1 месяц</td>\n",
       "      <td>Оригинал</td>\n",
       "      <td>задний</td>\n",
       "      <td>Левый</td>\n",
       "      <td>Не требует ремонта</td>\n",
       "      <td>Растаможен</td>\n",
       "    </tr>\n",
       "    <tr>\n",
       "      <th>34682</th>\n",
       "      <td>седан</td>\n",
       "      <td>BMW</td>\n",
       "      <td>https://auto.ru/cars/used/sale/bmw/5er/1101369...</td>\n",
       "      <td>чёрный</td>\n",
       "      <td>NaN</td>\n",
       "      <td>Продаётся отличный автомобиль.</td>\n",
       "      <td>2.0 LTR</td>\n",
       "      <td>190 N12</td>\n",
       "      <td>NaN</td>\n",
       "      <td>дизель</td>\n",
       "      <td>...</td>\n",
       "      <td>SEDAN AUTOMATIC 2.0</td>\n",
       "      <td>автоматическая</td>\n",
       "      <td>EUROPEAN</td>\n",
       "      <td>1 владелец</td>\n",
       "      <td>NaN</td>\n",
       "      <td>Оригинал</td>\n",
       "      <td>полный</td>\n",
       "      <td>Левый</td>\n",
       "      <td>Не требует ремонта</td>\n",
       "      <td>Растаможен</td>\n",
       "    </tr>\n",
       "    <tr>\n",
       "      <th>34683</th>\n",
       "      <td>седан</td>\n",
       "      <td>BMW</td>\n",
       "      <td>https://auto.ru/cars/used/sale/bmw/5er/1101364...</td>\n",
       "      <td>серый</td>\n",
       "      <td>NaN</td>\n",
       "      <td>Хорошее состояние</td>\n",
       "      <td>2.5 LTR</td>\n",
       "      <td>170 N12</td>\n",
       "      <td>NaN</td>\n",
       "      <td>бензин</td>\n",
       "      <td>...</td>\n",
       "      <td>SEDAN AUTOMATIC 2.5</td>\n",
       "      <td>автоматическая</td>\n",
       "      <td>EUROPEAN</td>\n",
       "      <td>3 или более</td>\n",
       "      <td>NaN</td>\n",
       "      <td>Дубликат</td>\n",
       "      <td>задний</td>\n",
       "      <td>Левый</td>\n",
       "      <td>Не требует ремонта</td>\n",
       "      <td>Растаможен</td>\n",
       "    </tr>\n",
       "    <tr>\n",
       "      <th>34684</th>\n",
       "      <td>внедорожник 5 дв.</td>\n",
       "      <td>BMW</td>\n",
       "      <td>https://auto.ru/cars/used/sale/bmw/x1/11013625...</td>\n",
       "      <td>коричневый</td>\n",
       "      <td>{\"id\":\"6336008\",\"name\":\"xDrive20d Локальная сб...</td>\n",
       "      <td>Автомобиль в идеальном состоянии . Куплен новы...</td>\n",
       "      <td>2.0 LTR</td>\n",
       "      <td>184 N12</td>\n",
       "      <td>{\"engine-proof\":true,\"esp\":true,\"start-stop-fu...</td>\n",
       "      <td>дизель</td>\n",
       "      <td>...</td>\n",
       "      <td>ALLROAD_5_DOORS AUTOMATIC 2.0</td>\n",
       "      <td>автоматическая</td>\n",
       "      <td>EUROPEAN</td>\n",
       "      <td>2 владельца</td>\n",
       "      <td>NaN</td>\n",
       "      <td>Оригинал</td>\n",
       "      <td>полный</td>\n",
       "      <td>Левый</td>\n",
       "      <td>Не требует ремонта</td>\n",
       "      <td>Растаможен</td>\n",
       "    </tr>\n",
       "    <tr>\n",
       "      <th>34685</th>\n",
       "      <td>внедорожник 5 дв.</td>\n",
       "      <td>BMW</td>\n",
       "      <td>https://auto.ru/cars/used/sale/bmw/x5/11012560...</td>\n",
       "      <td>чёрный</td>\n",
       "      <td>NaN</td>\n",
       "      <td>Пробег реальный, состояние отличное! Авторска...</td>\n",
       "      <td>3.0 LTR</td>\n",
       "      <td>235 N12</td>\n",
       "      <td>{\"alloy-wheel-disks\":true,\"navigation\":true,\"p...</td>\n",
       "      <td>дизель</td>\n",
       "      <td>...</td>\n",
       "      <td>ALLROAD_5_DOORS AUTOMATIC 3.0</td>\n",
       "      <td>автоматическая</td>\n",
       "      <td>EUROPEAN</td>\n",
       "      <td>3 или более</td>\n",
       "      <td>6 лет и 1 месяц</td>\n",
       "      <td>Оригинал</td>\n",
       "      <td>полный</td>\n",
       "      <td>Левый</td>\n",
       "      <td>Не требует ремонта</td>\n",
       "      <td>Растаможен</td>\n",
       "    </tr>\n",
       "  </tbody>\n",
       "</table>\n",
       "<p>34686 rows × 32 columns</p>\n",
       "</div>"
      ],
      "text/plain": [
       "                bodyType  brand  \\\n",
       "0                лифтбек  SKODA   \n",
       "1                лифтбек  SKODA   \n",
       "2                лифтбек  SKODA   \n",
       "3                лифтбек  SKODA   \n",
       "4                лифтбек  SKODA   \n",
       "...                  ...    ...   \n",
       "34681              седан    BMW   \n",
       "34682              седан    BMW   \n",
       "34683              седан    BMW   \n",
       "34684  внедорожник 5 дв.    BMW   \n",
       "34685  внедорожник 5 дв.    BMW   \n",
       "\n",
       "                                                 car_url       color  \\\n",
       "0      https://auto.ru/cars/used/sale/skoda/octavia/1...       синий   \n",
       "1      https://auto.ru/cars/used/sale/skoda/octavia/1...      чёрный   \n",
       "2      https://auto.ru/cars/used/sale/skoda/superb/11...       серый   \n",
       "3      https://auto.ru/cars/used/sale/skoda/octavia/1...  коричневый   \n",
       "4      https://auto.ru/cars/used/sale/skoda/octavia/1...       белый   \n",
       "...                                                  ...         ...   \n",
       "34681  https://auto.ru/cars/used/sale/bmw/3er/1101369...  коричневый   \n",
       "34682  https://auto.ru/cars/used/sale/bmw/5er/1101369...      чёрный   \n",
       "34683  https://auto.ru/cars/used/sale/bmw/5er/1101364...       серый   \n",
       "34684  https://auto.ru/cars/used/sale/bmw/x1/11013625...  коричневый   \n",
       "34685  https://auto.ru/cars/used/sale/bmw/x5/11012560...      чёрный   \n",
       "\n",
       "                                      complectation_dict  \\\n",
       "0                                                    NaN   \n",
       "1                                                    NaN   \n",
       "2      {\"id\":\"20026336\",\"name\":\"Ambition\",\"available_...   \n",
       "3      {\"id\":\"20803582\",\"name\":\"Ambition\",\"available_...   \n",
       "4                                                    NaN   \n",
       "...                                                  ...   \n",
       "34681                                                NaN   \n",
       "34682                                                NaN   \n",
       "34683                                                NaN   \n",
       "34684  {\"id\":\"6336008\",\"name\":\"xDrive20d Локальная сб...   \n",
       "34685                                                NaN   \n",
       "\n",
       "                                             description engineDisplacement  \\\n",
       "0      Все автомобили, представленные в продаже, прох...            1.2 LTR   \n",
       "1      ЛОТ: 01217195\\nАвтопрага Север\\nДанный автомоб...            1.6 LTR   \n",
       "2      Все автомобили, представленные в продаже, прох...            1.8 LTR   \n",
       "3      КОМПЛЕКТ ЗИМНЕЙ (ЛЕТНЕЙ) РЕЗИНЫ ПО СЕЗОНУ В ПО...            1.6 LTR   \n",
       "4      ЛОТ: 01220889\\nАвтопрага Север\\n\\nВы можете по...            1.8 LTR   \n",
       "...                                                  ...                ...   \n",
       "34681  Продается BMW 316i в отличном состоянии. Прода...            1.6 LTR   \n",
       "34682                     Продаётся отличный автомобиль.            2.0 LTR   \n",
       "34683                                  Хорошее состояние            2.5 LTR   \n",
       "34684  Автомобиль в идеальном состоянии . Куплен новы...            2.0 LTR   \n",
       "34685   Пробег реальный, состояние отличное! Авторска...            3.0 LTR   \n",
       "\n",
       "      enginePower                                     equipment_dict fuelType  \\\n",
       "0         105 N12  {\"engine-proof\":true,\"tinted-glass\":true,\"airb...   бензин   \n",
       "1         110 N12  {\"cruise-control\":true,\"asr\":true,\"esp\":true,\"...   бензин   \n",
       "2         152 N12  {\"cruise-control\":true,\"tinted-glass\":true,\"es...   бензин   \n",
       "3         110 N12  {\"cruise-control\":true,\"roller-blind-for-rear-...   бензин   \n",
       "4         152 N12  {\"cruise-control\":true,\"asr\":true,\"esp\":true,\"...   бензин   \n",
       "...           ...                                                ...      ...   \n",
       "34681     136 N12  {\"cruise-control\":true,\"asr\":true,\"tinted-glas...   бензин   \n",
       "34682     190 N12                                                NaN   дизель   \n",
       "34683     170 N12                                                NaN   бензин   \n",
       "34684     184 N12  {\"engine-proof\":true,\"esp\":true,\"start-stop-fu...   дизель   \n",
       "34685     235 N12  {\"alloy-wheel-disks\":true,\"navigation\":true,\"p...   дизель   \n",
       "\n",
       "       ...           vehicleConfiguration  vehicleTransmission    vendor  \\\n",
       "0      ...             LIFTBACK ROBOT 1.2     роботизированная  EUROPEAN   \n",
       "1      ...        LIFTBACK MECHANICAL 1.6         механическая  EUROPEAN   \n",
       "2      ...             LIFTBACK ROBOT 1.8     роботизированная  EUROPEAN   \n",
       "3      ...         LIFTBACK AUTOMATIC 1.6       автоматическая  EUROPEAN   \n",
       "4      ...         LIFTBACK AUTOMATIC 1.8       автоматическая  EUROPEAN   \n",
       "...    ...                            ...                  ...       ...   \n",
       "34681  ...            SEDAN AUTOMATIC 1.6       автоматическая  EUROPEAN   \n",
       "34682  ...            SEDAN AUTOMATIC 2.0       автоматическая  EUROPEAN   \n",
       "34683  ...            SEDAN AUTOMATIC 2.5       автоматическая  EUROPEAN   \n",
       "34684  ...  ALLROAD_5_DOORS AUTOMATIC 2.0       автоматическая  EUROPEAN   \n",
       "34685  ...  ALLROAD_5_DOORS AUTOMATIC 3.0       автоматическая  EUROPEAN   \n",
       "\n",
       "         Владельцы          Владение       ПТС    Привод   Руль  \\\n",
       "0      3 или более               NaN  Оригинал  передний  Левый   \n",
       "1       1 владелец               NaN  Оригинал  передний  Левый   \n",
       "2       1 владелец               NaN  Оригинал  передний  Левый   \n",
       "3       1 владелец               NaN  Оригинал  передний  Левый   \n",
       "4       1 владелец               NaN  Оригинал  передний  Левый   \n",
       "...            ...               ...       ...       ...    ...   \n",
       "34681  3 или более  2 года и 1 месяц  Оригинал    задний  Левый   \n",
       "34682   1 владелец               NaN  Оригинал    полный  Левый   \n",
       "34683  3 или более               NaN  Дубликат    задний  Левый   \n",
       "34684  2 владельца               NaN  Оригинал    полный  Левый   \n",
       "34685  3 или более   6 лет и 1 месяц  Оригинал    полный  Левый   \n",
       "\n",
       "                Состояние     Таможня  \n",
       "0      Не требует ремонта  Растаможен  \n",
       "1      Не требует ремонта  Растаможен  \n",
       "2      Не требует ремонта  Растаможен  \n",
       "3      Не требует ремонта  Растаможен  \n",
       "4      Не требует ремонта  Растаможен  \n",
       "...                   ...         ...  \n",
       "34681  Не требует ремонта  Растаможен  \n",
       "34682  Не требует ремонта  Растаможен  \n",
       "34683  Не требует ремонта  Растаможен  \n",
       "34684  Не требует ремонта  Растаможен  \n",
       "34685  Не требует ремонта  Растаможен  \n",
       "\n",
       "[34686 rows x 32 columns]"
      ]
     },
     "execution_count": 11,
     "metadata": {},
     "output_type": "execute_result"
    }
   ],
   "source": [
    "df_test = pd.read_csv('C:/Users/kosty/SF DS Project 5/test.csv')\n",
    "print('Признаки')\n",
    "print(df_test.columns)\n",
    "print('Датасет:')\n",
    "df_test"
   ]
  },
  {
   "cell_type": "markdown",
   "metadata": {},
   "source": [
    "Так как данные взяты с авто ру, оттуда соберем и тренировочный датасет."
   ]
  },
  {
   "cell_type": "code",
   "execution_count": 12,
   "metadata": {},
   "outputs": [
    {
     "data": {
      "text/plain": [
       "bodyType                                                          лифтбек\n",
       "brand                                                               SKODA\n",
       "car_url                 https://auto.ru/cars/used/sale/skoda/rapid/109...\n",
       "color                                                               белый\n",
       "complectation_dict                                                    NaN\n",
       "description             ЛОТ: 01209934\\nFAVORIT MOTORS KIA Юг\\nДанный а...\n",
       "engineDisplacement                                                1.6 LTR\n",
       "enginePower                                                        90 N12\n",
       "equipment_dict          {\"tinted-glass\":true,\"feedback-alarm\":true,\"es...\n",
       "fuelType                                                           бензин\n",
       "image                   https://avatars.mds.yandex.net/get-autoru-vos/...\n",
       "mileage                                                             76822\n",
       "modelDate                                                            2012\n",
       "model_info              {\"code\":\"RAPID\",\"name\":\"Rapid\",\"ru_name\":\"Рапи...\n",
       "model_name                                                          RAPID\n",
       "name                                                     1.6 MT (90 л.с.)\n",
       "numberOfDoors                                                           5\n",
       "parsing_unixtime                                               1603226310\n",
       "priceCurrency                                                         RUB\n",
       "productionDate                                                       2017\n",
       "sell_id                                                        1099639378\n",
       "super_gen               {\"id\":\"20637133\",\"displacement\":1598,\"engine_t...\n",
       "vehicleConfiguration                              LIFTBACK MECHANICAL 1.6\n",
       "vehicleTransmission                                          механическая\n",
       "vendor                                                           EUROPEAN\n",
       "Владельцы                                                      1 владелец\n",
       "Владение                                                              NaN\n",
       "ПТС                                                              Оригинал\n",
       "Привод                                                           передний\n",
       "Руль                                                                Левый\n",
       "Состояние                                              Не требует ремонта\n",
       "Таможня                                                        Растаможен\n",
       "Name: 10, dtype: object"
      ]
     },
     "execution_count": 12,
     "metadata": {},
     "output_type": "execute_result"
    }
   ],
   "source": [
    "# Пример первого объявления\n",
    "df_test.iloc[10]"
   ]
  },
  {
   "cell_type": "code",
   "execution_count": 13,
   "metadata": {},
   "outputs": [
    {
     "data": {
      "text/plain": [
       "'{\"id\":\"20637133\",\"displacement\":1598,\"engine_type\":\"GASOLINE\",\"gear_type\":\"FORWARD_CONTROL\",\"transmission\":\"MECHANICAL\",\"power\":90,\"power_kvt\":66,\"human_name\":\"1.6 MT (90 л.с.)\",\"acceleration\":11.4,\"clearance_min\":170,\"fuel_rate\":5.8}'"
      ]
     },
     "execution_count": 13,
     "metadata": {},
     "output_type": "execute_result"
    }
   ],
   "source": [
    "df_test.iloc[10]['super_gen']"
   ]
  },
  {
   "cell_type": "code",
   "execution_count": 14,
   "metadata": {},
   "outputs": [
    {
     "data": {
      "text/plain": [
       "'{\"code\":\"RAPID\",\"name\":\"Rapid\",\"ru_name\":\"Рапид\",\"morphology\":{},\"nameplate\":{\"code\":\"\",\"name\":\"\",\"semantic_url\":\"\"}}'"
      ]
     },
     "execution_count": 14,
     "metadata": {},
     "output_type": "execute_result"
    }
   ],
   "source": [
    "df_test.iloc[10]['model_info']"
   ]
  },
  {
   "cell_type": "code",
   "execution_count": 15,
   "metadata": {},
   "outputs": [
    {
     "data": {
      "text/plain": [
       "'{\"tinted-glass\":true,\"feedback-alarm\":true,\"esp\":true,\"airbag-driver\":true,\"isofix\":true,\"usb\":true,\"mirrors-heat\":true,\"electro-window-front\":true,\"dark-interior\":true,\"airbag-passenger\":true,\"computer\":true,\"abs\":true,\"front-seats-heat\":true,\"wheel-configuration2\":true,\"wheel-power\":true,\"immo\":true,\"alarm\":true,\"lock\":true,\"climate-control-1\":true,\"fabric-seats\":true,\"electro-mirrors\":true}'"
      ]
     },
     "execution_count": 15,
     "metadata": {},
     "output_type": "execute_result"
    }
   ],
   "source": [
    "df_test.iloc[10]['equipment_dict']"
   ]
  },
  {
   "cell_type": "code",
   "execution_count": 16,
   "metadata": {},
   "outputs": [
    {
     "data": {
      "text/plain": [
       "'https://auto.ru/cars/used/sale/skoda/rapid/1099639378-f35dd73e/'"
      ]
     },
     "execution_count": 16,
     "metadata": {},
     "output_type": "execute_result"
    }
   ],
   "source": [
    "df_test.iloc[10]['car_url']"
   ]
  },
  {
   "cell_type": "markdown",
   "metadata": {},
   "source": [
    "### Создадим список ссылок по которым будем собирать данные"
   ]
  },
  {
   "cell_type": "markdown",
   "metadata": {},
   "source": [
    "Начнем со списка ссылок на марки  \n",
    "Ссылка на модели выглядит так: https://auto.ru/cars/\"название_марок\"/all/\n",
    "Вместо названия модели будем подставлять значения из списка"
   ]
  },
  {
   "cell_type": "code",
   "execution_count": 17,
   "metadata": {},
   "outputs": [],
   "source": [
    "# Создадим список\n",
    "# Откроем текстовый файл, куда сохранен HTML с авто ру\n",
    "file1 = open('C:/Users/kosty/SF DS Project 5/auto_ru_marks.txt',\n",
    "             encoding='utf8')\n",
    "# В переменную запишем информацию из файда\n",
    "page1 = file1.read()\n",
    "file1.close()\n",
    "# Создадим переменную супа\n",
    "page1 = BeautifulSoup(page1, 'html.parser')\n",
    "# Созададим список, в котором будут объекты супа, в каждом из которых будем ссылка на определенную марку\n",
    "list_marks = page1.find_all(\n",
    "    'a', {'class': 'Link ListingPopularMMM-module__itemName'})\n",
    "# Циклом достанем ссылки\n",
    "links_marks = []\n",
    "for link in list_marks:\n",
    "    links_marks.append(link.get('href'))"
   ]
  },
  {
   "cell_type": "code",
   "execution_count": 18,
   "metadata": {},
   "outputs": [],
   "source": [
    "# Теперь будем отправлять запросы по имеющимся ссылкам и собирать ссылки на модели\n",
    "# Создадим пустой список, куда будут добавляться ссылки\n",
    "links_models = []\n",
    "# В цикле будем перебирать ссылки на марки, с каждой будем собирать ссылки на модели\n",
    "for url in links_marks:\n",
    "    page = requests.get(url, headers={'User-Agent': 'Mozilla/5.0'})\n",
    "    if page.status_code != 200:\n",
    "        print('Что то пошло не так на url', url)\n",
    "    # Вытаскиваем ссылки на модели\n",
    "    page2 = BeautifulSoup(page.text, 'html.parser')\n",
    "    list_models = page2.find_all(\n",
    "        'a', {'class': 'Link ListingPopularMMM-module__itemName'})\n",
    "    # Циклом достанем ссылки\n",
    "    for link in list_models:\n",
    "        links_models.append(link.get('href'))\n",
    "    # Не будем пугать сайт и на всякий поставим паузу между запросами\n",
    "    #time.sleep(0.5)  "
   ]
  },
  {
   "cell_type": "code",
   "execution_count": 20,
   "metadata": {},
   "outputs": [
    {
     "data": {
      "text/plain": [
       "908"
      ]
     },
     "execution_count": 20,
     "metadata": {},
     "output_type": "execute_result"
    }
   ],
   "source": [
    "len(links_models)"
   ]
  },
  {
   "cell_type": "code",
   "execution_count": 22,
   "metadata": {
    "scrolled": true
   },
   "outputs": [
    {
     "name": "stdout",
     "output_type": "stream",
     "text": [
      "0 https://auto.ru/cars/ac/cobra/all/\n",
      "100 https://auto.ru/cars/buick/special/all/\n",
      "200 https://auto.ru/cars/daimler/ds_420/all/\n",
      "300 https://auto.ru/cars/genesis/g70/all/\n",
      "400 https://auto.ru/cars/jac/s_3/all/\n",
      "500 https://auto.ru/cars/lincoln/town_car/all/\n",
      "600 https://auto.ru/cars/opel/insignia/all/\n",
      "700 https://auto.ru/cars/saturn/sky/all/\n",
      "800 https://auto.ru/cars/volkswagen/caddy/all/\n",
      "900 https://auto.ru/cars/uaz/3153/all/\n"
     ]
    }
   ],
   "source": [
    "# Собираем ссылки на автомобильные объявления\n",
    "# Для этого для каждой ссылки на модель будем собирать объявления со страницы и перебирать \"page\"\n",
    "# Создадим список, в котором будут содержаться page от 1 до 99, а нулевой элемент будет пустым\n",
    "pages = []\n",
    "links_cars = []\n",
    "for i in range(0,100):\n",
    "    pages.append('?page='+str(i))\n",
    "pages[0] = ''\n",
    "k = 0\n",
    "for link in links_models:\n",
    "    if k%100 ==0:\n",
    "        print(k, link)\n",
    "    k=k+1\n",
    "    for page in pages:\n",
    "        url = str(link) + str(page)\n",
    "        #print(url)\n",
    "        page = requests.get(url, headers={'User-Agent': 'Mozilla/5.0'})\n",
    "        page4 = BeautifulSoup(page.text, 'html.parser')\n",
    "        list_cars = page4.find_all('a', {'class': 'Link OfferThumb'})\n",
    "        if len(list_cars) == 0:\n",
    "            break\n",
    "        else:\n",
    "            for link_1 in list_cars:\n",
    "                links_cars.append(link_1.get('href'))\n",
    "        #time.sleep(0.35) \n",
    "#url = '#https://auto.ru/cars/lifan/x60/all/'\n",
    "#l = url + str(a[0])\n",
    "#l"
   ]
  },
  {
   "cell_type": "code",
   "execution_count": 23,
   "metadata": {},
   "outputs": [],
   "source": [
    "# Ссылки собирались долго, сохраним их в отдельный файл.\n",
    "links_cars_save = links_cars\n",
    "f = open('C:/Users/kosty/SF DS Project 5/links_cars_save.txt', 'w')\n",
    "for index in links_cars_save:\n",
    "    f.write(index + '\\n')\n",
    "f.close()"
   ]
  },
  {
   "cell_type": "code",
   "execution_count": 10,
   "metadata": {},
   "outputs": [
    {
     "name": "stdout",
     "output_type": "stream",
     "text": [
      "https://auto.ru/cars/used/sale/ac/cobra/1102143699-0da687c4/\n",
      "\n",
      "https://auto.ru/cars/used/sale/ac/cobra/1091592080-95160fef/\n",
      "\n",
      "https://auto.ru/cars/used/sale/ac/cobra/1089566651-d441937c/\n",
      "\n",
      "https://auto.ru/cars/used/sale/ac/cobra/1093077012-0c656c93/\n",
      "\n",
      "https://auto.ru/cars/used/sale/ac/cobra/1087194089-962b2369/\n",
      "\n"
     ]
    }
   ],
   "source": [
    "links_cars = open('C:/Users/kosty/SF DS Project 5/links_cars_save.txt', )\n",
    "i = 0\n",
    "for line in links_cars:\n",
    "    print (line)\n",
    "    i = i+1\n",
    "    if i == 5:\n",
    "        break\n",
    "links_cars.close()        "
   ]
  },
  {
   "cell_type": "code",
   "execution_count": 67,
   "metadata": {},
   "outputs": [],
   "source": [
    "links_cars.close()"
   ]
  },
  {
   "cell_type": "code",
   "execution_count": 58,
   "metadata": {},
   "outputs": [
    {
     "name": "stdout",
     "output_type": "stream",
     "text": [
      "https://auto.ru/cars/used/sale/chevrolet/niva/1102427521-cc660f9b/\n",
      " 0\n",
      "https://auto.ru/cars/used/sale/chevrolet/niva/1102427521-cc660f9b/\n",
      " 1\n",
      "https://auto.ru/cars/used/sale/chevrolet/niva/1102427521-cc660f9b/\n",
      " 2\n",
      "https://auto.ru/cars/used/sale/chevrolet/niva/1102427521-cc660f9b/\n",
      " 4\n",
      "https://auto.ru/cars/used/sale/chevrolet/niva/1102427521-cc660f9b/\n",
      " 5\n"
     ]
    }
   ],
   "source": [
    "l=0\n",
    "for i, line in enumerate(links_cars,0):\n",
    "    if i == 3:\n",
    "        i = i-1\n",
    "        continue\n",
    "    print(link,i)        \n",
    "    if i == 5:\n",
    "        break"
   ]
  },
  {
   "cell_type": "code",
   "execution_count": 60,
   "metadata": {},
   "outputs": [
    {
     "name": "stdout",
     "output_type": "stream",
     "text": [
      "https://auto.ru/cars/used/sale/chevrolet/niva/1102427521-cc660f9b/\n",
      " 1\n",
      "https://auto.ru/cars/used/sale/chevrolet/niva/1102427521-cc660f9b/\n",
      " 2\n",
      "https://auto.ru/cars/used/sale/chevrolet/niva/1102427521-cc660f9b/\n",
      " 3\n",
      "https://auto.ru/cars/used/sale/chevrolet/niva/1102427521-cc660f9b/\n",
      " 4\n",
      "https://auto.ru/cars/used/sale/chevrolet/niva/1102427521-cc660f9b/\n",
      " 5\n"
     ]
    }
   ],
   "source": [
    "i=0\n",
    "for line in links_cars:\n",
    "    url = link[:-2]\n",
    "    page = requests.get(url, headers={'User-Agent': 'Mozilla/5.0'})\n",
    "    page.encoding = 'utf8'\n",
    "    i = i+1\n",
    "    print(link, i)\n",
    "    if i == 5:\n",
    "        break\n",
    "    #if page.status_code == 200:\n",
    "    #    continue"
   ]
  },
  {
   "cell_type": "code",
   "execution_count": 71,
   "metadata": {},
   "outputs": [
    {
     "name": "stdout",
     "output_type": "stream",
     "text": [
      "iteration 0 with https://auto.ru/cars/new/group/hyundai/solaris/21796131/21800863/1102363747-d258f94a completed\n",
      "iteration 1000 with https://auto.ru/cars/new/group/hyundai/solaris/21796132/21800621/1102309983-a99ec44f completed\n",
      "iteration 2000 with https://auto.ru/cars/used/sale/hyundai/sonata/1101824106-bd848f61 completed\n",
      "iteration 3000 with https://auto.ru/cars/used/sale/hyundai/tucson/1102361508-84bf5d5e completed\n",
      "iteration 4000 with https://auto.ru/cars/used/sale/hyundai/tucson/1062798890-8e5365b8 completed\n",
      "iteration 5000 with https://auto.ru/cars/used/sale/infiniti/g35/1102393959-78b6a887 completed\n",
      "iteration 6000 with https://auto.ru/cars/used/sale/infiniti/qx70/1095162756-ae9d5c2d completed\n",
      "iteration 7000 with https://auto.ru/cars/new/group/jaguar/f_pace/21406627/20778512/1101386701-0ee462d5 completed\n",
      "iteration 8000 with https://auto.ru/cars/used/sale/jeep/cherokee/1102291427-97d84dfc completed\n",
      "iteration 9000 with https://auto.ru/cars/used/sale/jeep/wrangler/1100816048-d95bfc7d completed\n",
      "iteration 10000 with https://auto.ru/cars/used/sale/kia/ceed/1101982432-1340f1b7 completed\n",
      "iteration 11000 with https://auto.ru/cars/used/sale/kia/ceed/1099647240-b597fa90 completed\n",
      "iteration 12000 with https://auto.ru/cars/new/group/kia/cerato/21383612/21679176/1102336334-358fd3f5 completed\n",
      "iteration 13000 with https://auto.ru/cars/used/sale/kia/k5/1102286934-8c155ddf completed\n",
      "iteration 14000 with https://auto.ru/cars/used/sale/kia/optima/1102319627-08febab4 completed\n",
      "iteration 15000 with https://auto.ru/cars/used/sale/kia/optima/1102448159-c1f2af90 completed\n",
      "iteration 16000 with https://auto.ru/cars/used/sale/kia/rio/1102230924-4fdb59b2 completed\n",
      "iteration 17000 with https://auto.ru/cars/used/sale/kia/rio/1102318331-3a13b5f1 completed\n",
      "iteration 18000 with https://auto.ru/cars/used/sale/kia/rio/1101447690-84407b9e completed\n",
      "iteration 19000 with https://auto.ru/cars/used/sale/kia/rio/1102212153-dede3ffa completed\n",
      "iteration 20000 with https://auto.ru/cars/used/sale/kia/sorento/1102278342-c1581f79 completed\n",
      "iteration 21000 with https://auto.ru/cars/used/sale/kia/soul/1102366469-bb3cb35d completed\n",
      "iteration 22000 with https://auto.ru/cars/used/sale/kia/spectra/1102064411-79a3e02d completed\n",
      "iteration 23000 with https://auto.ru/cars/used/sale/kia/sportage/1101518695-17b6991f completed\n",
      "iteration 24000 with https://auto.ru/cars/used/sale/kia/sportage/1101721220-267b7056 completed\n",
      "iteration 25000 with https://auto.ru/cars/new/group/kia/sportage/21409404/21784820/1101975829-89ce0a90 completed\n",
      "iteration 26000 with https://auto.ru/cars/new/group/kia/sportage/21409403/21784798/1102462167-e525873a completed\n",
      "iteration 27000 with https://auto.ru/cars/used/sale/vaz/2107/1101223340-ae5f727f completed\n",
      "iteration 28000 with https://auto.ru/cars/used/sale/vaz/2107/1098498384-908b0e71 completed\n",
      "iteration 29000 with https://auto.ru/cars/used/sale/vaz/2107/1102130663-9b176474 completed\n",
      "iteration 30000 with https://auto.ru/cars/used/sale/vaz/2110/1102260782-c01f090f completed\n",
      "iteration 31000 with https://auto.ru/cars/used/sale/vaz/2110/1094739516-16e618aa completed\n",
      "iteration 32000 with https://auto.ru/cars/used/sale/vaz/2110/1102387338-f00c2aaf completed\n",
      "iteration 33000 with https://auto.ru/cars/used/sale/vaz/2110/1102456197-4b78e66b completed\n",
      "iteration 34000 with https://auto.ru/cars/used/sale/vaz/2112/1102428531-cff284d0 completed\n",
      "iteration 35000 with https://auto.ru/cars/used/sale/vaz/2112/1096454898-acf3b386 completed\n",
      "iteration 36000 with https://auto.ru/cars/used/sale/vaz/2112/1098276112-6b142a1a completed\n",
      "iteration 37000 with https://auto.ru/cars/used/sale/vaz/2114/1098641818-c4ee9a95 completed\n",
      "iteration 38000 with https://auto.ru/cars/used/sale/vaz/2114/1102224597-a6221fab completed\n",
      "iteration 39000 with https://auto.ru/cars/used/sale/vaz/2114/1094691536-6be148eb completed\n",
      "iteration 40000 with https://auto.ru/cars/used/sale/vaz/2114/1095710444-269346c8 completed\n",
      "iteration 41000 with https://auto.ru/cars/used/sale/vaz/2115/1098092782-ddfa2b37 completed\n",
      "iteration 42000 with https://auto.ru/cars/used/sale/vaz/2115/1097794986-273bc441 completed\n",
      "iteration 43000 with https://auto.ru/cars/used/sale/vaz/2115/1099302786-1a641f57 completed\n",
      "iteration 44000 with https://auto.ru/cars/used/sale/vaz/2121/1102196382-74f83177 completed\n"
     ]
    },
    {
     "ename": "ChunkedEncodingError",
     "evalue": "('Connection broken: OSError(\"(10054, \\'WSAECONNRESET\\')\")', OSError(\"(10054, 'WSAECONNRESET')\"))",
     "output_type": "error",
     "traceback": [
      "\u001b[1;31m---------------------------------------------------------------------------\u001b[0m",
      "\u001b[1;31mSysCallError\u001b[0m                              Traceback (most recent call last)",
      "\u001b[1;32m~\\programms\\anaconda3\\lib\\site-packages\\urllib3\\contrib\\pyopenssl.py\u001b[0m in \u001b[0;36mrecv_into\u001b[1;34m(self, *args, **kwargs)\u001b[0m\n\u001b[0;32m    312\u001b[0m         \u001b[1;32mtry\u001b[0m\u001b[1;33m:\u001b[0m\u001b[1;33m\u001b[0m\u001b[1;33m\u001b[0m\u001b[0m\n\u001b[1;32m--> 313\u001b[1;33m             \u001b[1;32mreturn\u001b[0m \u001b[0mself\u001b[0m\u001b[1;33m.\u001b[0m\u001b[0mconnection\u001b[0m\u001b[1;33m.\u001b[0m\u001b[0mrecv_into\u001b[0m\u001b[1;33m(\u001b[0m\u001b[1;33m*\u001b[0m\u001b[0margs\u001b[0m\u001b[1;33m,\u001b[0m \u001b[1;33m**\u001b[0m\u001b[0mkwargs\u001b[0m\u001b[1;33m)\u001b[0m\u001b[1;33m\u001b[0m\u001b[1;33m\u001b[0m\u001b[0m\n\u001b[0m\u001b[0;32m    314\u001b[0m         \u001b[1;32mexcept\u001b[0m \u001b[0mOpenSSL\u001b[0m\u001b[1;33m.\u001b[0m\u001b[0mSSL\u001b[0m\u001b[1;33m.\u001b[0m\u001b[0mSysCallError\u001b[0m \u001b[1;32mas\u001b[0m \u001b[0me\u001b[0m\u001b[1;33m:\u001b[0m\u001b[1;33m\u001b[0m\u001b[1;33m\u001b[0m\u001b[0m\n",
      "\u001b[1;32m~\\programms\\anaconda3\\lib\\site-packages\\OpenSSL\\SSL.py\u001b[0m in \u001b[0;36mrecv_into\u001b[1;34m(self, buffer, nbytes, flags)\u001b[0m\n\u001b[0;32m   1839\u001b[0m             \u001b[0mresult\u001b[0m \u001b[1;33m=\u001b[0m \u001b[0m_lib\u001b[0m\u001b[1;33m.\u001b[0m\u001b[0mSSL_read\u001b[0m\u001b[1;33m(\u001b[0m\u001b[0mself\u001b[0m\u001b[1;33m.\u001b[0m\u001b[0m_ssl\u001b[0m\u001b[1;33m,\u001b[0m \u001b[0mbuf\u001b[0m\u001b[1;33m,\u001b[0m \u001b[0mnbytes\u001b[0m\u001b[1;33m)\u001b[0m\u001b[1;33m\u001b[0m\u001b[1;33m\u001b[0m\u001b[0m\n\u001b[1;32m-> 1840\u001b[1;33m         \u001b[0mself\u001b[0m\u001b[1;33m.\u001b[0m\u001b[0m_raise_ssl_error\u001b[0m\u001b[1;33m(\u001b[0m\u001b[0mself\u001b[0m\u001b[1;33m.\u001b[0m\u001b[0m_ssl\u001b[0m\u001b[1;33m,\u001b[0m \u001b[0mresult\u001b[0m\u001b[1;33m)\u001b[0m\u001b[1;33m\u001b[0m\u001b[1;33m\u001b[0m\u001b[0m\n\u001b[0m\u001b[0;32m   1841\u001b[0m \u001b[1;33m\u001b[0m\u001b[0m\n",
      "\u001b[1;32m~\\programms\\anaconda3\\lib\\site-packages\\OpenSSL\\SSL.py\u001b[0m in \u001b[0;36m_raise_ssl_error\u001b[1;34m(self, ssl, result)\u001b[0m\n\u001b[0;32m   1662\u001b[0m                     \u001b[1;32mif\u001b[0m \u001b[0merrno\u001b[0m \u001b[1;33m!=\u001b[0m \u001b[1;36m0\u001b[0m\u001b[1;33m:\u001b[0m\u001b[1;33m\u001b[0m\u001b[1;33m\u001b[0m\u001b[0m\n\u001b[1;32m-> 1663\u001b[1;33m                         \u001b[1;32mraise\u001b[0m \u001b[0mSysCallError\u001b[0m\u001b[1;33m(\u001b[0m\u001b[0merrno\u001b[0m\u001b[1;33m,\u001b[0m \u001b[0merrorcode\u001b[0m\u001b[1;33m.\u001b[0m\u001b[0mget\u001b[0m\u001b[1;33m(\u001b[0m\u001b[0merrno\u001b[0m\u001b[1;33m)\u001b[0m\u001b[1;33m)\u001b[0m\u001b[1;33m\u001b[0m\u001b[1;33m\u001b[0m\u001b[0m\n\u001b[0m\u001b[0;32m   1664\u001b[0m                 \u001b[1;32mraise\u001b[0m \u001b[0mSysCallError\u001b[0m\u001b[1;33m(\u001b[0m\u001b[1;33m-\u001b[0m\u001b[1;36m1\u001b[0m\u001b[1;33m,\u001b[0m \u001b[1;34m\"Unexpected EOF\"\u001b[0m\u001b[1;33m)\u001b[0m\u001b[1;33m\u001b[0m\u001b[1;33m\u001b[0m\u001b[0m\n",
      "\u001b[1;31mSysCallError\u001b[0m: (10054, 'WSAECONNRESET')",
      "\nDuring handling of the above exception, another exception occurred:\n",
      "\u001b[1;31mOSError\u001b[0m                                   Traceback (most recent call last)",
      "\u001b[1;32m~\\programms\\anaconda3\\lib\\site-packages\\urllib3\\response.py\u001b[0m in \u001b[0;36m_error_catcher\u001b[1;34m(self)\u001b[0m\n\u001b[0;32m    424\u001b[0m             \u001b[1;32mtry\u001b[0m\u001b[1;33m:\u001b[0m\u001b[1;33m\u001b[0m\u001b[1;33m\u001b[0m\u001b[0m\n\u001b[1;32m--> 425\u001b[1;33m                 \u001b[1;32myield\u001b[0m\u001b[1;33m\u001b[0m\u001b[1;33m\u001b[0m\u001b[0m\n\u001b[0m\u001b[0;32m    426\u001b[0m \u001b[1;33m\u001b[0m\u001b[0m\n",
      "\u001b[1;32m~\\programms\\anaconda3\\lib\\site-packages\\urllib3\\response.py\u001b[0m in \u001b[0;36mread_chunked\u001b[1;34m(self, amt, decode_content)\u001b[0m\n\u001b[0;32m    754\u001b[0m                     \u001b[1;32mbreak\u001b[0m\u001b[1;33m\u001b[0m\u001b[1;33m\u001b[0m\u001b[0m\n\u001b[1;32m--> 755\u001b[1;33m                 \u001b[0mchunk\u001b[0m \u001b[1;33m=\u001b[0m \u001b[0mself\u001b[0m\u001b[1;33m.\u001b[0m\u001b[0m_handle_chunk\u001b[0m\u001b[1;33m(\u001b[0m\u001b[0mamt\u001b[0m\u001b[1;33m)\u001b[0m\u001b[1;33m\u001b[0m\u001b[1;33m\u001b[0m\u001b[0m\n\u001b[0m\u001b[0;32m    756\u001b[0m                 decoded = self._decode(\n",
      "\u001b[1;32m~\\programms\\anaconda3\\lib\\site-packages\\urllib3\\response.py\u001b[0m in \u001b[0;36m_handle_chunk\u001b[1;34m(self, amt)\u001b[0m\n\u001b[0;32m    698\u001b[0m         \u001b[1;32melif\u001b[0m \u001b[0mamt\u001b[0m \u001b[1;33m<\u001b[0m \u001b[0mself\u001b[0m\u001b[1;33m.\u001b[0m\u001b[0mchunk_left\u001b[0m\u001b[1;33m:\u001b[0m\u001b[1;33m\u001b[0m\u001b[1;33m\u001b[0m\u001b[0m\n\u001b[1;32m--> 699\u001b[1;33m             \u001b[0mvalue\u001b[0m \u001b[1;33m=\u001b[0m \u001b[0mself\u001b[0m\u001b[1;33m.\u001b[0m\u001b[0m_fp\u001b[0m\u001b[1;33m.\u001b[0m\u001b[0m_safe_read\u001b[0m\u001b[1;33m(\u001b[0m\u001b[0mamt\u001b[0m\u001b[1;33m)\u001b[0m\u001b[1;33m\u001b[0m\u001b[1;33m\u001b[0m\u001b[0m\n\u001b[0m\u001b[0;32m    700\u001b[0m             \u001b[0mself\u001b[0m\u001b[1;33m.\u001b[0m\u001b[0mchunk_left\u001b[0m \u001b[1;33m=\u001b[0m \u001b[0mself\u001b[0m\u001b[1;33m.\u001b[0m\u001b[0mchunk_left\u001b[0m \u001b[1;33m-\u001b[0m \u001b[0mamt\u001b[0m\u001b[1;33m\u001b[0m\u001b[1;33m\u001b[0m\u001b[0m\n",
      "\u001b[1;32m~\\programms\\anaconda3\\lib\\http\\client.py\u001b[0m in \u001b[0;36m_safe_read\u001b[1;34m(self, amt)\u001b[0m\n\u001b[0;32m    619\u001b[0m         \u001b[1;32mwhile\u001b[0m \u001b[0mamt\u001b[0m \u001b[1;33m>\u001b[0m \u001b[1;36m0\u001b[0m\u001b[1;33m:\u001b[0m\u001b[1;33m\u001b[0m\u001b[1;33m\u001b[0m\u001b[0m\n\u001b[1;32m--> 620\u001b[1;33m             \u001b[0mchunk\u001b[0m \u001b[1;33m=\u001b[0m \u001b[0mself\u001b[0m\u001b[1;33m.\u001b[0m\u001b[0mfp\u001b[0m\u001b[1;33m.\u001b[0m\u001b[0mread\u001b[0m\u001b[1;33m(\u001b[0m\u001b[0mmin\u001b[0m\u001b[1;33m(\u001b[0m\u001b[0mamt\u001b[0m\u001b[1;33m,\u001b[0m \u001b[0mMAXAMOUNT\u001b[0m\u001b[1;33m)\u001b[0m\u001b[1;33m)\u001b[0m\u001b[1;33m\u001b[0m\u001b[1;33m\u001b[0m\u001b[0m\n\u001b[0m\u001b[0;32m    621\u001b[0m             \u001b[1;32mif\u001b[0m \u001b[1;32mnot\u001b[0m \u001b[0mchunk\u001b[0m\u001b[1;33m:\u001b[0m\u001b[1;33m\u001b[0m\u001b[1;33m\u001b[0m\u001b[0m\n",
      "\u001b[1;32m~\\programms\\anaconda3\\lib\\socket.py\u001b[0m in \u001b[0;36mreadinto\u001b[1;34m(self, b)\u001b[0m\n\u001b[0;32m    588\u001b[0m             \u001b[1;32mtry\u001b[0m\u001b[1;33m:\u001b[0m\u001b[1;33m\u001b[0m\u001b[1;33m\u001b[0m\u001b[0m\n\u001b[1;32m--> 589\u001b[1;33m                 \u001b[1;32mreturn\u001b[0m \u001b[0mself\u001b[0m\u001b[1;33m.\u001b[0m\u001b[0m_sock\u001b[0m\u001b[1;33m.\u001b[0m\u001b[0mrecv_into\u001b[0m\u001b[1;33m(\u001b[0m\u001b[0mb\u001b[0m\u001b[1;33m)\u001b[0m\u001b[1;33m\u001b[0m\u001b[1;33m\u001b[0m\u001b[0m\n\u001b[0m\u001b[0;32m    590\u001b[0m             \u001b[1;32mexcept\u001b[0m \u001b[0mtimeout\u001b[0m\u001b[1;33m:\u001b[0m\u001b[1;33m\u001b[0m\u001b[1;33m\u001b[0m\u001b[0m\n",
      "\u001b[1;32m~\\programms\\anaconda3\\lib\\site-packages\\urllib3\\contrib\\pyopenssl.py\u001b[0m in \u001b[0;36mrecv_into\u001b[1;34m(self, *args, **kwargs)\u001b[0m\n\u001b[0;32m    317\u001b[0m             \u001b[1;32melse\u001b[0m\u001b[1;33m:\u001b[0m\u001b[1;33m\u001b[0m\u001b[1;33m\u001b[0m\u001b[0m\n\u001b[1;32m--> 318\u001b[1;33m                 \u001b[1;32mraise\u001b[0m \u001b[0mSocketError\u001b[0m\u001b[1;33m(\u001b[0m\u001b[0mstr\u001b[0m\u001b[1;33m(\u001b[0m\u001b[0me\u001b[0m\u001b[1;33m)\u001b[0m\u001b[1;33m)\u001b[0m\u001b[1;33m\u001b[0m\u001b[1;33m\u001b[0m\u001b[0m\n\u001b[0m\u001b[0;32m    319\u001b[0m         \u001b[1;32mexcept\u001b[0m \u001b[0mOpenSSL\u001b[0m\u001b[1;33m.\u001b[0m\u001b[0mSSL\u001b[0m\u001b[1;33m.\u001b[0m\u001b[0mZeroReturnError\u001b[0m\u001b[1;33m:\u001b[0m\u001b[1;33m\u001b[0m\u001b[1;33m\u001b[0m\u001b[0m\n",
      "\u001b[1;31mOSError\u001b[0m: (10054, 'WSAECONNRESET')",
      "\nDuring handling of the above exception, another exception occurred:\n",
      "\u001b[1;31mProtocolError\u001b[0m                             Traceback (most recent call last)",
      "\u001b[1;32m~\\programms\\anaconda3\\lib\\site-packages\\requests\\models.py\u001b[0m in \u001b[0;36mgenerate\u001b[1;34m()\u001b[0m\n\u001b[0;32m    749\u001b[0m                 \u001b[1;32mtry\u001b[0m\u001b[1;33m:\u001b[0m\u001b[1;33m\u001b[0m\u001b[1;33m\u001b[0m\u001b[0m\n\u001b[1;32m--> 750\u001b[1;33m                     \u001b[1;32mfor\u001b[0m \u001b[0mchunk\u001b[0m \u001b[1;32min\u001b[0m \u001b[0mself\u001b[0m\u001b[1;33m.\u001b[0m\u001b[0mraw\u001b[0m\u001b[1;33m.\u001b[0m\u001b[0mstream\u001b[0m\u001b[1;33m(\u001b[0m\u001b[0mchunk_size\u001b[0m\u001b[1;33m,\u001b[0m \u001b[0mdecode_content\u001b[0m\u001b[1;33m=\u001b[0m\u001b[1;32mTrue\u001b[0m\u001b[1;33m)\u001b[0m\u001b[1;33m:\u001b[0m\u001b[1;33m\u001b[0m\u001b[1;33m\u001b[0m\u001b[0m\n\u001b[0m\u001b[0;32m    751\u001b[0m                         \u001b[1;32myield\u001b[0m \u001b[0mchunk\u001b[0m\u001b[1;33m\u001b[0m\u001b[1;33m\u001b[0m\u001b[0m\n",
      "\u001b[1;32m~\\programms\\anaconda3\\lib\\site-packages\\urllib3\\response.py\u001b[0m in \u001b[0;36mstream\u001b[1;34m(self, amt, decode_content)\u001b[0m\n\u001b[0;32m    559\u001b[0m         \u001b[1;32mif\u001b[0m \u001b[0mself\u001b[0m\u001b[1;33m.\u001b[0m\u001b[0mchunked\u001b[0m \u001b[1;32mand\u001b[0m \u001b[0mself\u001b[0m\u001b[1;33m.\u001b[0m\u001b[0msupports_chunked_reads\u001b[0m\u001b[1;33m(\u001b[0m\u001b[1;33m)\u001b[0m\u001b[1;33m:\u001b[0m\u001b[1;33m\u001b[0m\u001b[1;33m\u001b[0m\u001b[0m\n\u001b[1;32m--> 560\u001b[1;33m             \u001b[1;32mfor\u001b[0m \u001b[0mline\u001b[0m \u001b[1;32min\u001b[0m \u001b[0mself\u001b[0m\u001b[1;33m.\u001b[0m\u001b[0mread_chunked\u001b[0m\u001b[1;33m(\u001b[0m\u001b[0mamt\u001b[0m\u001b[1;33m,\u001b[0m \u001b[0mdecode_content\u001b[0m\u001b[1;33m=\u001b[0m\u001b[0mdecode_content\u001b[0m\u001b[1;33m)\u001b[0m\u001b[1;33m:\u001b[0m\u001b[1;33m\u001b[0m\u001b[1;33m\u001b[0m\u001b[0m\n\u001b[0m\u001b[0;32m    561\u001b[0m                 \u001b[1;32myield\u001b[0m \u001b[0mline\u001b[0m\u001b[1;33m\u001b[0m\u001b[1;33m\u001b[0m\u001b[0m\n",
      "\u001b[1;32m~\\programms\\anaconda3\\lib\\site-packages\\urllib3\\response.py\u001b[0m in \u001b[0;36mread_chunked\u001b[1;34m(self, amt, decode_content)\u001b[0m\n\u001b[0;32m    780\u001b[0m             \u001b[1;32mif\u001b[0m \u001b[0mself\u001b[0m\u001b[1;33m.\u001b[0m\u001b[0m_original_response\u001b[0m\u001b[1;33m:\u001b[0m\u001b[1;33m\u001b[0m\u001b[1;33m\u001b[0m\u001b[0m\n\u001b[1;32m--> 781\u001b[1;33m                 \u001b[0mself\u001b[0m\u001b[1;33m.\u001b[0m\u001b[0m_original_response\u001b[0m\u001b[1;33m.\u001b[0m\u001b[0mclose\u001b[0m\u001b[1;33m(\u001b[0m\u001b[1;33m)\u001b[0m\u001b[1;33m\u001b[0m\u001b[1;33m\u001b[0m\u001b[0m\n\u001b[0m\u001b[0;32m    782\u001b[0m \u001b[1;33m\u001b[0m\u001b[0m\n",
      "\u001b[1;32m~\\programms\\anaconda3\\lib\\contextlib.py\u001b[0m in \u001b[0;36m__exit__\u001b[1;34m(self, type, value, traceback)\u001b[0m\n\u001b[0;32m    129\u001b[0m             \u001b[1;32mtry\u001b[0m\u001b[1;33m:\u001b[0m\u001b[1;33m\u001b[0m\u001b[1;33m\u001b[0m\u001b[0m\n\u001b[1;32m--> 130\u001b[1;33m                 \u001b[0mself\u001b[0m\u001b[1;33m.\u001b[0m\u001b[0mgen\u001b[0m\u001b[1;33m.\u001b[0m\u001b[0mthrow\u001b[0m\u001b[1;33m(\u001b[0m\u001b[0mtype\u001b[0m\u001b[1;33m,\u001b[0m \u001b[0mvalue\u001b[0m\u001b[1;33m,\u001b[0m \u001b[0mtraceback\u001b[0m\u001b[1;33m)\u001b[0m\u001b[1;33m\u001b[0m\u001b[1;33m\u001b[0m\u001b[0m\n\u001b[0m\u001b[0;32m    131\u001b[0m             \u001b[1;32mexcept\u001b[0m \u001b[0mStopIteration\u001b[0m \u001b[1;32mas\u001b[0m \u001b[0mexc\u001b[0m\u001b[1;33m:\u001b[0m\u001b[1;33m\u001b[0m\u001b[1;33m\u001b[0m\u001b[0m\n",
      "\u001b[1;32m~\\programms\\anaconda3\\lib\\site-packages\\urllib3\\response.py\u001b[0m in \u001b[0;36m_error_catcher\u001b[1;34m(self)\u001b[0m\n\u001b[0;32m    442\u001b[0m                 \u001b[1;31m# This includes IncompleteRead.\u001b[0m\u001b[1;33m\u001b[0m\u001b[1;33m\u001b[0m\u001b[1;33m\u001b[0m\u001b[0m\n\u001b[1;32m--> 443\u001b[1;33m                 \u001b[1;32mraise\u001b[0m \u001b[0mProtocolError\u001b[0m\u001b[1;33m(\u001b[0m\u001b[1;34m\"Connection broken: %r\"\u001b[0m \u001b[1;33m%\u001b[0m \u001b[0me\u001b[0m\u001b[1;33m,\u001b[0m \u001b[0me\u001b[0m\u001b[1;33m)\u001b[0m\u001b[1;33m\u001b[0m\u001b[1;33m\u001b[0m\u001b[0m\n\u001b[0m\u001b[0;32m    444\u001b[0m \u001b[1;33m\u001b[0m\u001b[0m\n",
      "\u001b[1;31mProtocolError\u001b[0m: ('Connection broken: OSError(\"(10054, \\'WSAECONNRESET\\')\")', OSError(\"(10054, 'WSAECONNRESET')\"))",
      "\nDuring handling of the above exception, another exception occurred:\n",
      "\u001b[1;31mChunkedEncodingError\u001b[0m                      Traceback (most recent call last)",
      "\u001b[1;32m<ipython-input-71-1e707a8f9769>\u001b[0m in \u001b[0;36m<module>\u001b[1;34m\u001b[0m\n\u001b[0;32m      7\u001b[0m     \u001b[0mcar_information_dict\u001b[0m \u001b[1;33m=\u001b[0m \u001b[1;33m{\u001b[0m\u001b[1;33m}\u001b[0m\u001b[1;33m\u001b[0m\u001b[1;33m\u001b[0m\u001b[0m\n\u001b[0;32m      8\u001b[0m     \u001b[0murl\u001b[0m \u001b[1;33m=\u001b[0m \u001b[0mlink\u001b[0m\u001b[1;33m[\u001b[0m\u001b[1;33m:\u001b[0m\u001b[1;33m-\u001b[0m\u001b[1;36m2\u001b[0m\u001b[1;33m]\u001b[0m\u001b[1;33m\u001b[0m\u001b[1;33m\u001b[0m\u001b[0m\n\u001b[1;32m----> 9\u001b[1;33m     \u001b[0mpage\u001b[0m \u001b[1;33m=\u001b[0m \u001b[0mrequests\u001b[0m\u001b[1;33m.\u001b[0m\u001b[0mget\u001b[0m\u001b[1;33m(\u001b[0m\u001b[0murl\u001b[0m\u001b[1;33m,\u001b[0m \u001b[0mheaders\u001b[0m\u001b[1;33m=\u001b[0m\u001b[1;33m{\u001b[0m\u001b[1;34m'User-Agent'\u001b[0m\u001b[1;33m:\u001b[0m \u001b[1;34m'Mozilla/5.0'\u001b[0m\u001b[1;33m}\u001b[0m\u001b[1;33m)\u001b[0m\u001b[1;33m\u001b[0m\u001b[1;33m\u001b[0m\u001b[0m\n\u001b[0m\u001b[0;32m     10\u001b[0m     \u001b[0mpage\u001b[0m\u001b[1;33m.\u001b[0m\u001b[0mencoding\u001b[0m \u001b[1;33m=\u001b[0m \u001b[1;34m'utf8'\u001b[0m\u001b[1;33m\u001b[0m\u001b[1;33m\u001b[0m\u001b[0m\n\u001b[0;32m     11\u001b[0m     \u001b[1;31m#print(page)\u001b[0m\u001b[1;33m\u001b[0m\u001b[1;33m\u001b[0m\u001b[1;33m\u001b[0m\u001b[0m\n",
      "\u001b[1;32m~\\programms\\anaconda3\\lib\\site-packages\\requests\\api.py\u001b[0m in \u001b[0;36mget\u001b[1;34m(url, params, **kwargs)\u001b[0m\n\u001b[0;32m     73\u001b[0m \u001b[1;33m\u001b[0m\u001b[0m\n\u001b[0;32m     74\u001b[0m     \u001b[0mkwargs\u001b[0m\u001b[1;33m.\u001b[0m\u001b[0msetdefault\u001b[0m\u001b[1;33m(\u001b[0m\u001b[1;34m'allow_redirects'\u001b[0m\u001b[1;33m,\u001b[0m \u001b[1;32mTrue\u001b[0m\u001b[1;33m)\u001b[0m\u001b[1;33m\u001b[0m\u001b[1;33m\u001b[0m\u001b[0m\n\u001b[1;32m---> 75\u001b[1;33m     \u001b[1;32mreturn\u001b[0m \u001b[0mrequest\u001b[0m\u001b[1;33m(\u001b[0m\u001b[1;34m'get'\u001b[0m\u001b[1;33m,\u001b[0m \u001b[0murl\u001b[0m\u001b[1;33m,\u001b[0m \u001b[0mparams\u001b[0m\u001b[1;33m=\u001b[0m\u001b[0mparams\u001b[0m\u001b[1;33m,\u001b[0m \u001b[1;33m**\u001b[0m\u001b[0mkwargs\u001b[0m\u001b[1;33m)\u001b[0m\u001b[1;33m\u001b[0m\u001b[1;33m\u001b[0m\u001b[0m\n\u001b[0m\u001b[0;32m     76\u001b[0m \u001b[1;33m\u001b[0m\u001b[0m\n\u001b[0;32m     77\u001b[0m \u001b[1;33m\u001b[0m\u001b[0m\n",
      "\u001b[1;32m~\\programms\\anaconda3\\lib\\site-packages\\requests\\api.py\u001b[0m in \u001b[0;36mrequest\u001b[1;34m(method, url, **kwargs)\u001b[0m\n\u001b[0;32m     58\u001b[0m     \u001b[1;31m# cases, and look like a memory leak in others.\u001b[0m\u001b[1;33m\u001b[0m\u001b[1;33m\u001b[0m\u001b[1;33m\u001b[0m\u001b[0m\n\u001b[0;32m     59\u001b[0m     \u001b[1;32mwith\u001b[0m \u001b[0msessions\u001b[0m\u001b[1;33m.\u001b[0m\u001b[0mSession\u001b[0m\u001b[1;33m(\u001b[0m\u001b[1;33m)\u001b[0m \u001b[1;32mas\u001b[0m \u001b[0msession\u001b[0m\u001b[1;33m:\u001b[0m\u001b[1;33m\u001b[0m\u001b[1;33m\u001b[0m\u001b[0m\n\u001b[1;32m---> 60\u001b[1;33m         \u001b[1;32mreturn\u001b[0m \u001b[0msession\u001b[0m\u001b[1;33m.\u001b[0m\u001b[0mrequest\u001b[0m\u001b[1;33m(\u001b[0m\u001b[0mmethod\u001b[0m\u001b[1;33m=\u001b[0m\u001b[0mmethod\u001b[0m\u001b[1;33m,\u001b[0m \u001b[0murl\u001b[0m\u001b[1;33m=\u001b[0m\u001b[0murl\u001b[0m\u001b[1;33m,\u001b[0m \u001b[1;33m**\u001b[0m\u001b[0mkwargs\u001b[0m\u001b[1;33m)\u001b[0m\u001b[1;33m\u001b[0m\u001b[1;33m\u001b[0m\u001b[0m\n\u001b[0m\u001b[0;32m     61\u001b[0m \u001b[1;33m\u001b[0m\u001b[0m\n\u001b[0;32m     62\u001b[0m \u001b[1;33m\u001b[0m\u001b[0m\n",
      "\u001b[1;32m~\\programms\\anaconda3\\lib\\site-packages\\requests\\sessions.py\u001b[0m in \u001b[0;36mrequest\u001b[1;34m(self, method, url, params, data, headers, cookies, files, auth, timeout, allow_redirects, proxies, hooks, stream, verify, cert, json)\u001b[0m\n\u001b[0;32m    531\u001b[0m         }\n\u001b[0;32m    532\u001b[0m         \u001b[0msend_kwargs\u001b[0m\u001b[1;33m.\u001b[0m\u001b[0mupdate\u001b[0m\u001b[1;33m(\u001b[0m\u001b[0msettings\u001b[0m\u001b[1;33m)\u001b[0m\u001b[1;33m\u001b[0m\u001b[1;33m\u001b[0m\u001b[0m\n\u001b[1;32m--> 533\u001b[1;33m         \u001b[0mresp\u001b[0m \u001b[1;33m=\u001b[0m \u001b[0mself\u001b[0m\u001b[1;33m.\u001b[0m\u001b[0msend\u001b[0m\u001b[1;33m(\u001b[0m\u001b[0mprep\u001b[0m\u001b[1;33m,\u001b[0m \u001b[1;33m**\u001b[0m\u001b[0msend_kwargs\u001b[0m\u001b[1;33m)\u001b[0m\u001b[1;33m\u001b[0m\u001b[1;33m\u001b[0m\u001b[0m\n\u001b[0m\u001b[0;32m    534\u001b[0m \u001b[1;33m\u001b[0m\u001b[0m\n\u001b[0;32m    535\u001b[0m         \u001b[1;32mreturn\u001b[0m \u001b[0mresp\u001b[0m\u001b[1;33m\u001b[0m\u001b[1;33m\u001b[0m\u001b[0m\n",
      "\u001b[1;32m~\\programms\\anaconda3\\lib\\site-packages\\requests\\sessions.py\u001b[0m in \u001b[0;36msend\u001b[1;34m(self, request, **kwargs)\u001b[0m\n\u001b[0;32m    666\u001b[0m \u001b[1;33m\u001b[0m\u001b[0m\n\u001b[0;32m    667\u001b[0m         \u001b[1;31m# Resolve redirects if allowed.\u001b[0m\u001b[1;33m\u001b[0m\u001b[1;33m\u001b[0m\u001b[1;33m\u001b[0m\u001b[0m\n\u001b[1;32m--> 668\u001b[1;33m         \u001b[0mhistory\u001b[0m \u001b[1;33m=\u001b[0m \u001b[1;33m[\u001b[0m\u001b[0mresp\u001b[0m \u001b[1;32mfor\u001b[0m \u001b[0mresp\u001b[0m \u001b[1;32min\u001b[0m \u001b[0mgen\u001b[0m\u001b[1;33m]\u001b[0m \u001b[1;32mif\u001b[0m \u001b[0mallow_redirects\u001b[0m \u001b[1;32melse\u001b[0m \u001b[1;33m[\u001b[0m\u001b[1;33m]\u001b[0m\u001b[1;33m\u001b[0m\u001b[1;33m\u001b[0m\u001b[0m\n\u001b[0m\u001b[0;32m    669\u001b[0m \u001b[1;33m\u001b[0m\u001b[0m\n\u001b[0;32m    670\u001b[0m         \u001b[1;31m# Shuffle things around if there's history.\u001b[0m\u001b[1;33m\u001b[0m\u001b[1;33m\u001b[0m\u001b[1;33m\u001b[0m\u001b[0m\n",
      "\u001b[1;32m~\\programms\\anaconda3\\lib\\site-packages\\requests\\sessions.py\u001b[0m in \u001b[0;36m<listcomp>\u001b[1;34m(.0)\u001b[0m\n\u001b[0;32m    666\u001b[0m \u001b[1;33m\u001b[0m\u001b[0m\n\u001b[0;32m    667\u001b[0m         \u001b[1;31m# Resolve redirects if allowed.\u001b[0m\u001b[1;33m\u001b[0m\u001b[1;33m\u001b[0m\u001b[1;33m\u001b[0m\u001b[0m\n\u001b[1;32m--> 668\u001b[1;33m         \u001b[0mhistory\u001b[0m \u001b[1;33m=\u001b[0m \u001b[1;33m[\u001b[0m\u001b[0mresp\u001b[0m \u001b[1;32mfor\u001b[0m \u001b[0mresp\u001b[0m \u001b[1;32min\u001b[0m \u001b[0mgen\u001b[0m\u001b[1;33m]\u001b[0m \u001b[1;32mif\u001b[0m \u001b[0mallow_redirects\u001b[0m \u001b[1;32melse\u001b[0m \u001b[1;33m[\u001b[0m\u001b[1;33m]\u001b[0m\u001b[1;33m\u001b[0m\u001b[1;33m\u001b[0m\u001b[0m\n\u001b[0m\u001b[0;32m    669\u001b[0m \u001b[1;33m\u001b[0m\u001b[0m\n\u001b[0;32m    670\u001b[0m         \u001b[1;31m# Shuffle things around if there's history.\u001b[0m\u001b[1;33m\u001b[0m\u001b[1;33m\u001b[0m\u001b[1;33m\u001b[0m\u001b[0m\n",
      "\u001b[1;32m~\\programms\\anaconda3\\lib\\site-packages\\requests\\sessions.py\u001b[0m in \u001b[0;36mresolve_redirects\u001b[1;34m(self, resp, req, stream, timeout, verify, cert, proxies, yield_requests, **adapter_kwargs)\u001b[0m\n\u001b[0;32m    245\u001b[0m                     \u001b[0mproxies\u001b[0m\u001b[1;33m=\u001b[0m\u001b[0mproxies\u001b[0m\u001b[1;33m,\u001b[0m\u001b[1;33m\u001b[0m\u001b[1;33m\u001b[0m\u001b[0m\n\u001b[0;32m    246\u001b[0m                     \u001b[0mallow_redirects\u001b[0m\u001b[1;33m=\u001b[0m\u001b[1;32mFalse\u001b[0m\u001b[1;33m,\u001b[0m\u001b[1;33m\u001b[0m\u001b[1;33m\u001b[0m\u001b[0m\n\u001b[1;32m--> 247\u001b[1;33m                     \u001b[1;33m**\u001b[0m\u001b[0madapter_kwargs\u001b[0m\u001b[1;33m\u001b[0m\u001b[1;33m\u001b[0m\u001b[0m\n\u001b[0m\u001b[0;32m    248\u001b[0m                 )\n\u001b[0;32m    249\u001b[0m \u001b[1;33m\u001b[0m\u001b[0m\n",
      "\u001b[1;32m~\\programms\\anaconda3\\lib\\site-packages\\requests\\sessions.py\u001b[0m in \u001b[0;36msend\u001b[1;34m(self, request, **kwargs)\u001b[0m\n\u001b[0;32m    684\u001b[0m \u001b[1;33m\u001b[0m\u001b[0m\n\u001b[0;32m    685\u001b[0m         \u001b[1;32mif\u001b[0m \u001b[1;32mnot\u001b[0m \u001b[0mstream\u001b[0m\u001b[1;33m:\u001b[0m\u001b[1;33m\u001b[0m\u001b[1;33m\u001b[0m\u001b[0m\n\u001b[1;32m--> 686\u001b[1;33m             \u001b[0mr\u001b[0m\u001b[1;33m.\u001b[0m\u001b[0mcontent\u001b[0m\u001b[1;33m\u001b[0m\u001b[1;33m\u001b[0m\u001b[0m\n\u001b[0m\u001b[0;32m    687\u001b[0m \u001b[1;33m\u001b[0m\u001b[0m\n\u001b[0;32m    688\u001b[0m         \u001b[1;32mreturn\u001b[0m \u001b[0mr\u001b[0m\u001b[1;33m\u001b[0m\u001b[1;33m\u001b[0m\u001b[0m\n",
      "\u001b[1;32m~\\programms\\anaconda3\\lib\\site-packages\\requests\\models.py\u001b[0m in \u001b[0;36mcontent\u001b[1;34m(self)\u001b[0m\n\u001b[0;32m    826\u001b[0m                 \u001b[0mself\u001b[0m\u001b[1;33m.\u001b[0m\u001b[0m_content\u001b[0m \u001b[1;33m=\u001b[0m \u001b[1;32mNone\u001b[0m\u001b[1;33m\u001b[0m\u001b[1;33m\u001b[0m\u001b[0m\n\u001b[0;32m    827\u001b[0m             \u001b[1;32melse\u001b[0m\u001b[1;33m:\u001b[0m\u001b[1;33m\u001b[0m\u001b[1;33m\u001b[0m\u001b[0m\n\u001b[1;32m--> 828\u001b[1;33m                 \u001b[0mself\u001b[0m\u001b[1;33m.\u001b[0m\u001b[0m_content\u001b[0m \u001b[1;33m=\u001b[0m \u001b[1;34mb''\u001b[0m\u001b[1;33m.\u001b[0m\u001b[0mjoin\u001b[0m\u001b[1;33m(\u001b[0m\u001b[0mself\u001b[0m\u001b[1;33m.\u001b[0m\u001b[0miter_content\u001b[0m\u001b[1;33m(\u001b[0m\u001b[0mCONTENT_CHUNK_SIZE\u001b[0m\u001b[1;33m)\u001b[0m\u001b[1;33m)\u001b[0m \u001b[1;32mor\u001b[0m \u001b[1;34mb''\u001b[0m\u001b[1;33m\u001b[0m\u001b[1;33m\u001b[0m\u001b[0m\n\u001b[0m\u001b[0;32m    829\u001b[0m \u001b[1;33m\u001b[0m\u001b[0m\n\u001b[0;32m    830\u001b[0m         \u001b[0mself\u001b[0m\u001b[1;33m.\u001b[0m\u001b[0m_content_consumed\u001b[0m \u001b[1;33m=\u001b[0m \u001b[1;32mTrue\u001b[0m\u001b[1;33m\u001b[0m\u001b[1;33m\u001b[0m\u001b[0m\n",
      "\u001b[1;32m~\\programms\\anaconda3\\lib\\site-packages\\requests\\models.py\u001b[0m in \u001b[0;36mgenerate\u001b[1;34m()\u001b[0m\n\u001b[0;32m    751\u001b[0m                         \u001b[1;32myield\u001b[0m \u001b[0mchunk\u001b[0m\u001b[1;33m\u001b[0m\u001b[1;33m\u001b[0m\u001b[0m\n\u001b[0;32m    752\u001b[0m                 \u001b[1;32mexcept\u001b[0m \u001b[0mProtocolError\u001b[0m \u001b[1;32mas\u001b[0m \u001b[0me\u001b[0m\u001b[1;33m:\u001b[0m\u001b[1;33m\u001b[0m\u001b[1;33m\u001b[0m\u001b[0m\n\u001b[1;32m--> 753\u001b[1;33m                     \u001b[1;32mraise\u001b[0m \u001b[0mChunkedEncodingError\u001b[0m\u001b[1;33m(\u001b[0m\u001b[0me\u001b[0m\u001b[1;33m)\u001b[0m\u001b[1;33m\u001b[0m\u001b[1;33m\u001b[0m\u001b[0m\n\u001b[0m\u001b[0;32m    754\u001b[0m                 \u001b[1;32mexcept\u001b[0m \u001b[0mDecodeError\u001b[0m \u001b[1;32mas\u001b[0m \u001b[0me\u001b[0m\u001b[1;33m:\u001b[0m\u001b[1;33m\u001b[0m\u001b[1;33m\u001b[0m\u001b[0m\n\u001b[0;32m    755\u001b[0m                     \u001b[1;32mraise\u001b[0m \u001b[0mContentDecodingError\u001b[0m\u001b[1;33m(\u001b[0m\u001b[0me\u001b[0m\u001b[1;33m)\u001b[0m\u001b[1;33m\u001b[0m\u001b[1;33m\u001b[0m\u001b[0m\n",
      "\u001b[1;31mChunkedEncodingError\u001b[0m: ('Connection broken: OSError(\"(10054, \\'WSAECONNRESET\\')\")', OSError(\"(10054, 'WSAECONNRESET')\"))"
     ]
    }
   ],
   "source": [
    "# Соберём сырую информацию по ссылкам, которые собрали\n",
    "k = 0\n",
    "n = 0\n",
    "iteration = 0\n",
    "links_cars = open('C:/Users/kosty/SF DS Project 5/links_cars_save — копия — копия — копия — копия.txt')\n",
    "for link in links_cars:\n",
    "    car_information_dict = {}\n",
    "    url = link[:-2]\n",
    "    page = requests.get(url, headers={'User-Agent': 'Mozilla/5.0'})\n",
    "    page.encoding = 'utf8'\n",
    "    #print(page)\n",
    "    page5 = BeautifulSoup(page.text, 'html.parser')\n",
    "    complectation_link = page5.find_all(\n",
    "        'a', {'class': 'Link SpoilerLink CardCatalogLink SpoilerLink_type_default'})\n",
    "    first_parameters = page5.find_all('span')\n",
    "    add_information = page5.find_all(\n",
    "        'li', {'class': 'ComplectationGroups__itemContentEl'})\n",
    "    date = page5.find_all('div', {'class': 'frD7AaIjyoUEYVajhJsrO__info-item'})\n",
    "    car_information_dict.update({url:{\n",
    "        'complectation_link' : complectation_link,\n",
    "        'first_parameters' : first_parameters,\n",
    "        'add_information' : add_information,\n",
    "        'date' : date\n",
    "    }})\n",
    "    file = open('C:/Users/kosty/SF DS Project 5/ci_raw_{}.txt'.format(k), 'w', encoding='utf-8')\n",
    "    file.write(str(car_information_dict))\n",
    "    #file.write('complectation_link::')\n",
    "    #file.write(str(complectation_link))\n",
    "    #file.write('first_parameters::')\n",
    "    #file.write(str(first_parameters))\n",
    "    #file.write('add_information::')\n",
    "    #file.write(str(add_information))\n",
    "    file.close()\n",
    "    if k % 1000 == 0:\n",
    "        print('iteration', k, 'with', url, 'completed')\n",
    "    k = k+1\n",
    "    #time.sleep(0.1)"
   ]
  },
  {
   "cell_type": "code",
   "execution_count": 26,
   "metadata": {},
   "outputs": [
    {
     "data": {
      "text/plain": [
       "[<span class=\"Link ServiceNavigation__link ServiceNavigation__link_active\" role=\"button\" tabindex=\"0\">Объявление</span>,\n",
       " <span class=\"GeoSelect__title-shrinker\" title=\"Любой регион\">Любой регион</span>,\n",
       " <span class=\"TopNavigationCompare__tooltip HoveredTooltip__trigger\"><div class=\"Dropdown TopNavigationCompare__dropdown\"><div class=\"Dropdown__switcher TopNavigationCompare__switcher\"><a class=\"Link TopNavigationCompare__link\" href=\"https://auto.ru/compare-offers/\"><svg class=\"IconSvg IconSvg_compare IconSvg_size_24 TopNavigationCompare__icon\"><use xlink:href=\"#compare\"></use></svg></a></div><div class=\"Dropdown__menu TopNavigationCompare__menu\"><a class=\"Link TopNavigationCompare__item\" href=\"https://auto.ru/compare-models/\">Модели<span class=\"TopNavigationCompare__counter\"></span></a><a class=\"Link TopNavigationCompare__item\" href=\"https://auto.ru/compare-offers/\">Объявления<span class=\"TopNavigationCompare__counter\"></span></a></div></div></span>,\n",
       " <span class=\"TopNavigationCompare__counter\"></span>,\n",
       " <span class=\"TopNavigationCompare__counter\"></span>,\n",
       " <span class=\"OfferPriceCaption PriceUsedOffer-module__caption\"><span class=\"OfferPriceCaption__price\">10 700 000 ₽</span><svg class=\"IconSvg IconSvg_arrow-rounded IconSvg_size_24 OfferPriceCaption__icon OfferPriceCaption__icon_CLOSED\"><use xlink:href=\"#arrow-rounded\"></use></svg></span>,\n",
       " <span class=\"OfferPriceCaption__price\">10 700 000 ₽</span>,\n",
       " <span class=\"ControlGroup ControlGroup_responsive_no ControlGroup_size_l\"><div class=\"Button Button_color_white Button_size_l Button_type_div Button_width_default ButtonFavorite-module__container ButtonFavorite-module__l\" type=\"div\"><span class=\"Button__content\"><span class=\"ButtonFavorite-module__content HoveredTooltip__trigger\"><div class=\"ButtonFavorite-module__content ButtonFavorite-module__content_align_center ButtonFavorite-module__content_wide\"><svg class=\"IconSvg IconSvg_favorite IconSvg_size_24 ButtonFavorite-module__icon\"><use xlink:href=\"#favorite\"></use></svg><span class=\"ButtonFavorite-module__text\">В избранное</span></div></span></span></div><div class=\"Button Button_color_white Button_size_l Button_type_div Button_width_default ButtonCompare-module__container ButtonCompare-module__l\" type=\"div\"><span class=\"Button__content\"><span class=\"ButtonCompare-module__tooltip HoveredTooltip__trigger\"><svg class=\"IconSvg IconSvg_compare IconSvg_size_24 ButtonCompare-module__icon\"><use xlink:href=\"#compare\"></use></svg> </span></span></div><div class=\"Button Button_color_white Button_size_l Button_type_div Button_width_default ButtonNote-module__container ButtonNote-module__l\" type=\"div\"><span class=\"Button__content\"><div class=\"ButtonNote-module__tooltip HoveredTooltip__trigger\"><svg class=\"IconSvg IconSvg_note IconSvg_size_24 ButtonNote-module__icon\"><use xlink:href=\"#note\"></use></svg></div></span></div><div class=\"Popup Popup_animation_full Share__popup ButtonShareWithTooltip__popup\"></div><div class=\"Button Button_color_white Button_size_l Button_type_div Button_width_default ButtonShare-module__container ButtonShare-module__l\" type=\"div\"><span class=\"Button__content\"><div class=\"ButtonShare-module__tooltip HoveredTooltip__trigger\"><svg class=\"IconSvg IconSvg_share IconSvg_size_24 ButtonShare-module__icon\"><use xlink:href=\"#share\"></use></svg></div></span></div><div class=\"Button Button_color_white Button_size_l Button_type_div Button_width_default ButtonReport-module__container ButtonReport-module__l\" type=\"div\"><span class=\"Button__content\"><div class=\"Dropdown ButtonReport-module__content\"><div class=\"Dropdown__switcher ButtonReport-module__dropdown-switcher\"><div class=\"ButtonReport-module__content ButtonReport-module__content_align_center HoveredTooltip__trigger\"><svg class=\"IconSvg IconSvg_complaint IconSvg_size_24 ButtonReport-module__icon\"><use xlink:href=\"#complaint\"></use></svg></div></div><div class=\"Popup Popup_animation_full\"></div></div></span></div></span>,\n",
       " <span class=\"Button__content\"><span class=\"ButtonFavorite-module__content HoveredTooltip__trigger\"><div class=\"ButtonFavorite-module__content ButtonFavorite-module__content_align_center ButtonFavorite-module__content_wide\"><svg class=\"IconSvg IconSvg_favorite IconSvg_size_24 ButtonFavorite-module__icon\"><use xlink:href=\"#favorite\"></use></svg><span class=\"ButtonFavorite-module__text\">В избранное</span></div></span></span>,\n",
       " <span class=\"ButtonFavorite-module__content HoveredTooltip__trigger\"><div class=\"ButtonFavorite-module__content ButtonFavorite-module__content_align_center ButtonFavorite-module__content_wide\"><svg class=\"IconSvg IconSvg_favorite IconSvg_size_24 ButtonFavorite-module__icon\"><use xlink:href=\"#favorite\"></use></svg><span class=\"ButtonFavorite-module__text\">В избранное</span></div></span>,\n",
       " <span class=\"ButtonFavorite-module__text\">В избранное</span>,\n",
       " <span class=\"Button__content\"><span class=\"ButtonCompare-module__tooltip HoveredTooltip__trigger\"><svg class=\"IconSvg IconSvg_compare IconSvg_size_24 ButtonCompare-module__icon\"><use xlink:href=\"#compare\"></use></svg> </span></span>,\n",
       " <span class=\"ButtonCompare-module__tooltip HoveredTooltip__trigger\"><svg class=\"IconSvg IconSvg_compare IconSvg_size_24 ButtonCompare-module__icon\"><use xlink:href=\"#compare\"></use></svg> </span>,\n",
       " <span class=\"Button__content\"><div class=\"ButtonNote-module__tooltip HoveredTooltip__trigger\"><svg class=\"IconSvg IconSvg_note IconSvg_size_24 ButtonNote-module__icon\"><use xlink:href=\"#note\"></use></svg></div></span>,\n",
       " <span class=\"Button__content\"><div class=\"ButtonShare-module__tooltip HoveredTooltip__trigger\"><svg class=\"IconSvg IconSvg_share IconSvg_size_24 ButtonShare-module__icon\"><use xlink:href=\"#share\"></use></svg></div></span>,\n",
       " <span class=\"Button__content\"><div class=\"Dropdown ButtonReport-module__content\"><div class=\"Dropdown__switcher ButtonReport-module__dropdown-switcher\"><div class=\"ButtonReport-module__content ButtonReport-module__content_align_center HoveredTooltip__trigger\"><svg class=\"IconSvg IconSvg_complaint IconSvg_size_24 ButtonReport-module__icon\"><use xlink:href=\"#complaint\"></use></svg></div></div><div class=\"Popup Popup_animation_full\"></div></div></span>,\n",
       " <span class=\"Link Link_color_gray CardSellerNamePlace__place\" role=\"button\" tabindex=\"0\"><span class=\"MetroListPlace MetroListPlace_nowrap MetroListPlace_ellipsis CardSellerNamePlace__place\"><span class=\"MetroListPlace__regionName MetroListPlace_nbsp\">Владивосток</span><span class=\"MetroListPlace__address MetroListPlace_nbsp\">улица Марченко, 15</span></span></span>,\n",
       " <span class=\"MetroListPlace MetroListPlace_nowrap MetroListPlace_ellipsis CardSellerNamePlace__place\"><span class=\"MetroListPlace__regionName MetroListPlace_nbsp\">Владивосток</span><span class=\"MetroListPlace__address MetroListPlace_nbsp\">улица Марченко, 15</span></span>,\n",
       " <span class=\"MetroListPlace__regionName MetroListPlace_nbsp\">Владивосток</span>,\n",
       " <span class=\"MetroListPlace__address MetroListPlace_nbsp\">улица Марченко, 15</span>,\n",
       " <span class=\"PersonalMessage__caption\">Написать</span>,\n",
       " <span class=\"Button__content\"><div class=\"\"><div class=\"OfferPhone-module__showPhoneText\">Показать телефон</div><div class=\"OfferPhone-module__placeholder OfferPhone__placeholder\">+7 ●●● ●●● ●● ●●</div></div></span>,\n",
       " <span class=\"CardInfoRow__cell\">год выпуска</span>,\n",
       " <span class=\"CardInfoRow__cell\"><a class=\"Link Link_color_black\" href=\"https://auto.ru/cars/ac/cobra/1991-year/used/\">1991</a></span>,\n",
       " <span class=\"CardInfoRow__cell\">Пробег</span>,\n",
       " <span class=\"CardInfoRow__cell\">28 000 км</span>,\n",
       " <span class=\"CardInfoRow__cell\">Кузов</span>,\n",
       " <span class=\"CardInfoRow__cell\"><a class=\"Link Link_color_black\" href=\"https://auto.ru/cars/ac/cobra/used/?body_type_group=ROADSTER\">родстер</a></span>,\n",
       " <span class=\"CardInfoRow__cell\">Цвет</span>,\n",
       " <span class=\"CardInfoRow__cell\"><a class=\"Link Link_color_black\" href=\"https://auto.ru/cars/ac/cobra/used/color-belyj/\">белый</a></span>,\n",
       " <span class=\"CardInfoRow__cell\">Двигатель</span>,\n",
       " <span class=\"CardInfoRow__cell\"><div>4.9 л / 228 л.с. / <a class=\"Link Link_color_black\" href=\"https://auto.ru/cars/ac/cobra/used/?engine_type=GASOLINE\">Бензин</a></div></span>,\n",
       " <span class=\"CardInfoRow__cell\">Налог</span>,\n",
       " <span class=\"CardInfoRow__cell\">4 104 ₽ / год<div class=\"InfoPopup InfoPopup_theme_white CardInfoRow__tooltip\"><div class=\"Popup Popup_animation_full Popup-info\"></div></div></span>,\n",
       " <span class=\"CardInfoRow__cell\">Коробка</span>,\n",
       " <span class=\"CardInfoRow__cell\">механическая</span>,\n",
       " <span class=\"CardInfoRow__cell\">Привод</span>,\n",
       " <span class=\"CardInfoRow__cell\">задний</span>,\n",
       " <span class=\"CardInfoRow__cell\">Руль</span>,\n",
       " <span class=\"CardInfoRow__cell\">Левый</span>,\n",
       " <span class=\"CardInfoRow__cell\">Состояние</span>,\n",
       " <span class=\"CardInfoRow__cell\">Не требует ремонта</span>,\n",
       " <span class=\"CardInfoRow__cell\">Владельцы</span>,\n",
       " <span class=\"CardInfoRow__cell\">3 или более</span>,\n",
       " <span class=\"CardInfoRow__cell\">ПТС</span>,\n",
       " <span class=\"CardInfoRow__cell\">Дубликат</span>,\n",
       " <span class=\"CardInfoRow__cell\">Владение</span>,\n",
       " <span class=\"CardInfoRow__cell\">1 месяц</span>,\n",
       " <span class=\"CardInfoRow__cell\">Таможня</span>,\n",
       " <span class=\"CardInfoRow__cell\">Растаможен</span>,\n",
       " <span class=\"CardInfoRow__cell\">Кузов №</span>,\n",
       " <span class=\"CardInfoRow__cell\">66362***********</span>,\n",
       " <span class=\"CardInfoRow__cell\">Госномер</span>,\n",
       " <span class=\"CardInfoRow__cell\">******|125</span>,\n",
       " <span class=\"OfferPriceCaption\"><span class=\"OfferPriceCaption__price\">10 700 000 ₽</span></span>,\n",
       " <span class=\"OfferPriceCaption__price\">10 700 000 ₽</span>,\n",
       " <span class=\"Button__content\"><span class=\"ButtonFavorite-module__content HoveredTooltip__trigger\"><div class=\"ButtonFavorite-module__content ButtonFavorite-module__content_align_center\"><svg class=\"IconSvg IconSvg_favorite IconSvg_size_24 ButtonFavorite-module__icon\"><use xlink:href=\"#favorite\"></use></svg></div></span></span>,\n",
       " <span class=\"ButtonFavorite-module__content HoveredTooltip__trigger\"><div class=\"ButtonFavorite-module__content ButtonFavorite-module__content_align_center\"><svg class=\"IconSvg IconSvg_favorite IconSvg_size_24 ButtonFavorite-module__icon\"><use xlink:href=\"#favorite\"></use></svg></div></span>,\n",
       " <span class=\"Button__content\"><span class=\"ButtonCompare-module__tooltip HoveredTooltip__trigger\"><svg class=\"IconSvg IconSvg_compare IconSvg_size_24 ButtonCompare-module__icon\"><use xlink:href=\"#compare\"></use></svg> </span></span>,\n",
       " <span class=\"ButtonCompare-module__tooltip HoveredTooltip__trigger\"><svg class=\"IconSvg IconSvg_compare IconSvg_size_24 ButtonCompare-module__icon\"><use xlink:href=\"#compare\"></use></svg> </span>,\n",
       " <span class=\"Button__content\"><div class=\"ButtonNote-module__tooltip HoveredTooltip__trigger\"><svg class=\"IconSvg IconSvg_note IconSvg_size_24 ButtonNote-module__icon\"><use xlink:href=\"#note\"></use></svg></div></span>,\n",
       " <span class=\"Button__content\"><div class=\"ButtonShare-module__tooltip HoveredTooltip__trigger\"><svg class=\"IconSvg IconSvg_share IconSvg_size_24 ButtonShare-module__icon\"><use xlink:href=\"#share\"></use></svg></div></span>,\n",
       " <span class=\"Button__content\"><div class=\"Dropdown ButtonReport-module__content\"><div class=\"Dropdown__switcher ButtonReport-module__dropdown-switcher\"><div class=\"ButtonReport-module__content ButtonReport-module__content_align_center HoveredTooltip__trigger\"><svg class=\"IconSvg IconSvg_complaint IconSvg_size_24 ButtonReport-module__icon\"><use xlink:href=\"#complaint\"></use></svg></div></div><div class=\"Popup Popup_animation_full\"></div></div></span>,\n",
       " <span class=\"Link Link_color_gray CardSellerNamePlace__place\" role=\"button\" tabindex=\"0\"><span class=\"MetroListPlace MetroListPlace_twolines MetroListPlace_ellipsis CardSellerNamePlace__place\"><span class=\"MetroListPlace__regionName MetroListPlace_space\">Владивосток</span></span></span>,\n",
       " <span class=\"MetroListPlace MetroListPlace_twolines MetroListPlace_ellipsis CardSellerNamePlace__place\"><span class=\"MetroListPlace__regionName MetroListPlace_space\">Владивосток</span></span>,\n",
       " <span class=\"MetroListPlace__regionName MetroListPlace_space\">Владивосток</span>,\n",
       " <span class=\"Button__content\"><div class=\"PersonalMessage__content\"><svg class=\"IconSvg IconSvg_chat IconSvg_size_24 PersonalMessage__icon PersonalMessage__icon_color_grey\"><use xlink:href=\"#chat\"></use></svg><span class=\"PersonalMessage__caption\">Написать</span></div></span>,\n",
       " <span class=\"PersonalMessage__caption\">Написать</span>,\n",
       " <span class=\"Button__content\"><div class=\"\"><div class=\"OfferPhone-module__showPhoneText\">Показать телефон</div><div class=\"OfferPhone-module__placeholder OfferPhone__placeholder\">+7 ●●● ●●● ●● ●●</div></div></span>,\n",
       " <span>Оригинальная реплика 1967 года Ford AC COBRA 427. В ПТС , в особых отметках, есть об этом запись. Завезена в 2007 году через Японию во Владивосток. После реставрации . Все оригинал, кроме пыльников ,сальников и коврового покрытия салона. Объём двигателя 5.8. АКПП( автомат). Есть тканевая крыша .</span>,\n",
       " <span class=\"Button__content\"><span class=\"Price Price_free\">Посмотреть бесплатно</span></span>,\n",
       " <span class=\"Price Price_free\">Посмотреть бесплатно</span>,\n",
       " <span class=\"FooterCopyright\">© 1996–<!-- -->2021<!-- --> ООО «Яндекс.Вертикали»</span>]"
      ]
     },
     "execution_count": 26,
     "metadata": {},
     "output_type": "execute_result"
    }
   ],
   "source": [
    "first_parameters"
   ]
  },
  {
   "cell_type": "code",
   "execution_count": 11,
   "metadata": {},
   "outputs": [
    {
     "data": {
      "text/plain": [
       "'https://auto.ru/cars/used/sale/ac/cobra/1102143699-0da687c4'"
      ]
     },
     "execution_count": 11,
     "metadata": {},
     "output_type": "execute_result"
    }
   ],
   "source": [
    "url[:-2]"
   ]
  },
  {
   "cell_type": "code",
   "execution_count": 27,
   "metadata": {},
   "outputs": [
    {
     "name": "stdout",
     "output_type": "stream",
     "text": [
      "{'https://auto.ru/cars/used/sale/ac/cobra/1102143699-0da687c4/\\n': {'complectation_link': [], 'first_parameters': [<span class=\"Button__content\">\n",
      "<span class=\"Button__text\">\n",
      "                    Смотреть все объявления\n",
      "                </span>\n",
      "</span>, <span class=\"Button__text\">\n",
      "                    Смотреть все объявления\n",
      "                </span>, <span class=\"Button__content\">\n",
      "<span class=\"Button__text\">\n",
      "                    Перейти на главную страницу\n",
      "                </span>\n",
      "</span>, <span class=\"Button__text\">\n",
      "                    Перейти на главную страницу\n",
      "                </span>, <span class=\"Button__content\">\n",
      "<span class=\"Button__text\">\n",
      "                        Смотреть все объявления\n",
      "                    </span>\n",
      "</span>, <span class=\"Button__text\">\n",
      "                        Смотреть все объявления\n",
      "                    </span>, <span class=\"Button__content\">\n",
      "<span class=\"Button__text\">\n",
      "                        Скачать приложение Авто.ру\n",
      "                    </span>\n",
      "</span>, <span class=\"Button__text\">\n",
      "                        Скачать приложение Авто.ру\n",
      "                    </span>], 'add_information': [], 'date': []}}\n"
     ]
    }
   ],
   "source": [
    "read_dictionary = np.load('C:/Users/kosty/SF DS Project 5/c_i_0.npy', allow_pickle = True).item()\n",
    "print(read_dictionary)"
   ]
  },
  {
   "cell_type": "code",
   "execution_count": 46,
   "metadata": {},
   "outputs": [],
   "source": [
    "url = 'https://auto.ru/cars/used/sale/ac/cobra/1102143699-0da687c4/'"
   ]
  },
  {
   "cell_type": "code",
   "execution_count": 7,
   "metadata": {},
   "outputs": [],
   "source": [
    "page = requests.get(url, headers={'User-Agent': 'Mozilla/5.0'})\n",
    "page.encoding = 'utf8'\n",
    "page5 = BeautifulSoup(page.text, 'html.parser')"
   ]
  },
  {
   "cell_type": "code",
   "execution_count": 8,
   "metadata": {},
   "outputs": [
    {
     "data": {
      "text/plain": [
       "[]"
      ]
     },
     "execution_count": 8,
     "metadata": {},
     "output_type": "execute_result"
    }
   ],
   "source": [
    "complectation_link = page5.find_all('a', {'class': 'Link SpoilerLink CardCatalogLink SpoilerLink_type_default'})\n",
    "complectation_link"
   ]
  },
  {
   "cell_type": "code",
   "execution_count": 49,
   "metadata": {},
   "outputs": [],
   "source": [
    "first_parameters = page5.find_all('span')#, {'class': 'CardInfoRow__cell'})"
   ]
  },
  {
   "cell_type": "code",
   "execution_count": 50,
   "metadata": {
    "scrolled": true
   },
   "outputs": [
    {
     "data": {
      "text/plain": [
       "[<span class=\"Link ServiceNavigation__link ServiceNavigation__link_active\" role=\"button\" tabindex=\"0\">Объявление</span>,\n",
       " <span class=\"GeoSelect__title-shrinker\" title=\"Любой регион\">Любой регион</span>,\n",
       " <span class=\"TopNavigationCompare__tooltip HoveredTooltip__trigger\"><div class=\"Dropdown TopNavigationCompare__dropdown\"><div class=\"Dropdown__switcher TopNavigationCompare__switcher\"><a class=\"Link TopNavigationCompare__link\" href=\"https://auto.ru/compare-offers/\"><svg class=\"IconSvg IconSvg_compare IconSvg_size_24 TopNavigationCompare__icon\"><use xlink:href=\"#compare\"></use></svg></a></div><div class=\"Dropdown__menu TopNavigationCompare__menu\"><a class=\"Link TopNavigationCompare__item\" href=\"https://auto.ru/compare-models/\">Модели<span class=\"TopNavigationCompare__counter\"></span></a><a class=\"Link TopNavigationCompare__item\" href=\"https://auto.ru/compare-offers/\">Объявления<span class=\"TopNavigationCompare__counter\"></span></a></div></div></span>,\n",
       " <span class=\"TopNavigationCompare__counter\"></span>,\n",
       " <span class=\"TopNavigationCompare__counter\"></span>,\n",
       " <span class=\"OfferPriceCaption PriceUsedOffer-module__caption\"><span class=\"OfferPriceCaption__price\">10 700 000 ₽</span><svg class=\"IconSvg IconSvg_arrow-rounded IconSvg_size_24 OfferPriceCaption__icon OfferPriceCaption__icon_CLOSED\"><use xlink:href=\"#arrow-rounded\"></use></svg></span>,\n",
       " <span class=\"OfferPriceCaption__price\">10 700 000 ₽</span>,\n",
       " <span class=\"ControlGroup ControlGroup_responsive_no ControlGroup_size_l\"><div class=\"Button Button_color_white Button_size_l Button_type_div Button_width_default ButtonFavorite-module__container ButtonFavorite-module__l\" type=\"div\"><span class=\"Button__content\"><span class=\"ButtonFavorite-module__content HoveredTooltip__trigger\"><div class=\"ButtonFavorite-module__content ButtonFavorite-module__content_align_center ButtonFavorite-module__content_wide\"><svg class=\"IconSvg IconSvg_favorite IconSvg_size_24 ButtonFavorite-module__icon\"><use xlink:href=\"#favorite\"></use></svg><span class=\"ButtonFavorite-module__text\">В избранное</span></div></span></span></div><div class=\"Button Button_color_white Button_size_l Button_type_div Button_width_default ButtonCompare-module__container ButtonCompare-module__l\" type=\"div\"><span class=\"Button__content\"><span class=\"ButtonCompare-module__tooltip HoveredTooltip__trigger\"><svg class=\"IconSvg IconSvg_compare IconSvg_size_24 ButtonCompare-module__icon\"><use xlink:href=\"#compare\"></use></svg> </span></span></div><div class=\"Button Button_color_white Button_size_l Button_type_div Button_width_default ButtonNote-module__container ButtonNote-module__l\" type=\"div\"><span class=\"Button__content\"><div class=\"ButtonNote-module__tooltip HoveredTooltip__trigger\"><svg class=\"IconSvg IconSvg_note IconSvg_size_24 ButtonNote-module__icon\"><use xlink:href=\"#note\"></use></svg></div></span></div><div class=\"Popup Popup_animation_full Share__popup ButtonShareWithTooltip__popup\"></div><div class=\"Button Button_color_white Button_size_l Button_type_div Button_width_default ButtonShare-module__container ButtonShare-module__l\" type=\"div\"><span class=\"Button__content\"><div class=\"ButtonShare-module__tooltip HoveredTooltip__trigger\"><svg class=\"IconSvg IconSvg_share IconSvg_size_24 ButtonShare-module__icon\"><use xlink:href=\"#share\"></use></svg></div></span></div><div class=\"Button Button_color_white Button_size_l Button_type_div Button_width_default ButtonReport-module__container ButtonReport-module__l\" type=\"div\"><span class=\"Button__content\"><div class=\"Dropdown ButtonReport-module__content\"><div class=\"Dropdown__switcher ButtonReport-module__dropdown-switcher\"><div class=\"ButtonReport-module__content ButtonReport-module__content_align_center HoveredTooltip__trigger\"><svg class=\"IconSvg IconSvg_complaint IconSvg_size_24 ButtonReport-module__icon\"><use xlink:href=\"#complaint\"></use></svg></div></div><div class=\"Popup Popup_animation_full\"></div></div></span></div></span>,\n",
       " <span class=\"Button__content\"><span class=\"ButtonFavorite-module__content HoveredTooltip__trigger\"><div class=\"ButtonFavorite-module__content ButtonFavorite-module__content_align_center ButtonFavorite-module__content_wide\"><svg class=\"IconSvg IconSvg_favorite IconSvg_size_24 ButtonFavorite-module__icon\"><use xlink:href=\"#favorite\"></use></svg><span class=\"ButtonFavorite-module__text\">В избранное</span></div></span></span>,\n",
       " <span class=\"ButtonFavorite-module__content HoveredTooltip__trigger\"><div class=\"ButtonFavorite-module__content ButtonFavorite-module__content_align_center ButtonFavorite-module__content_wide\"><svg class=\"IconSvg IconSvg_favorite IconSvg_size_24 ButtonFavorite-module__icon\"><use xlink:href=\"#favorite\"></use></svg><span class=\"ButtonFavorite-module__text\">В избранное</span></div></span>,\n",
       " <span class=\"ButtonFavorite-module__text\">В избранное</span>,\n",
       " <span class=\"Button__content\"><span class=\"ButtonCompare-module__tooltip HoveredTooltip__trigger\"><svg class=\"IconSvg IconSvg_compare IconSvg_size_24 ButtonCompare-module__icon\"><use xlink:href=\"#compare\"></use></svg> </span></span>,\n",
       " <span class=\"ButtonCompare-module__tooltip HoveredTooltip__trigger\"><svg class=\"IconSvg IconSvg_compare IconSvg_size_24 ButtonCompare-module__icon\"><use xlink:href=\"#compare\"></use></svg> </span>,\n",
       " <span class=\"Button__content\"><div class=\"ButtonNote-module__tooltip HoveredTooltip__trigger\"><svg class=\"IconSvg IconSvg_note IconSvg_size_24 ButtonNote-module__icon\"><use xlink:href=\"#note\"></use></svg></div></span>,\n",
       " <span class=\"Button__content\"><div class=\"ButtonShare-module__tooltip HoveredTooltip__trigger\"><svg class=\"IconSvg IconSvg_share IconSvg_size_24 ButtonShare-module__icon\"><use xlink:href=\"#share\"></use></svg></div></span>,\n",
       " <span class=\"Button__content\"><div class=\"Dropdown ButtonReport-module__content\"><div class=\"Dropdown__switcher ButtonReport-module__dropdown-switcher\"><div class=\"ButtonReport-module__content ButtonReport-module__content_align_center HoveredTooltip__trigger\"><svg class=\"IconSvg IconSvg_complaint IconSvg_size_24 ButtonReport-module__icon\"><use xlink:href=\"#complaint\"></use></svg></div></div><div class=\"Popup Popup_animation_full\"></div></div></span>,\n",
       " <span class=\"Link Link_color_gray CardSellerNamePlace__place\" role=\"button\" tabindex=\"0\"><span class=\"MetroListPlace MetroListPlace_nowrap MetroListPlace_ellipsis CardSellerNamePlace__place\"><span class=\"MetroListPlace__regionName MetroListPlace_nbsp\">Владивосток</span><span class=\"MetroListPlace__address MetroListPlace_nbsp\">улица Марченко, 15</span></span></span>,\n",
       " <span class=\"MetroListPlace MetroListPlace_nowrap MetroListPlace_ellipsis CardSellerNamePlace__place\"><span class=\"MetroListPlace__regionName MetroListPlace_nbsp\">Владивосток</span><span class=\"MetroListPlace__address MetroListPlace_nbsp\">улица Марченко, 15</span></span>,\n",
       " <span class=\"MetroListPlace__regionName MetroListPlace_nbsp\">Владивосток</span>,\n",
       " <span class=\"MetroListPlace__address MetroListPlace_nbsp\">улица Марченко, 15</span>,\n",
       " <span class=\"PersonalMessage__caption\">Написать</span>,\n",
       " <span class=\"Button__content\"><div class=\"\"><div class=\"OfferPhone-module__showPhoneText\">Показать телефон</div><div class=\"OfferPhone-module__placeholder OfferPhone__placeholder\">+7 ●●● ●●● ●● ●●</div></div></span>,\n",
       " <span class=\"CardInfoRow__cell\">год выпуска</span>,\n",
       " <span class=\"CardInfoRow__cell\"><a class=\"Link Link_color_black\" href=\"https://auto.ru/cars/ac/cobra/1991-year/used/\">1991</a></span>,\n",
       " <span class=\"CardInfoRow__cell\">Пробег</span>,\n",
       " <span class=\"CardInfoRow__cell\">28 000 км</span>,\n",
       " <span class=\"CardInfoRow__cell\">Кузов</span>,\n",
       " <span class=\"CardInfoRow__cell\"><a class=\"Link Link_color_black\" href=\"https://auto.ru/cars/ac/cobra/used/?body_type_group=ROADSTER\">родстер</a></span>,\n",
       " <span class=\"CardInfoRow__cell\">Цвет</span>,\n",
       " <span class=\"CardInfoRow__cell\"><a class=\"Link Link_color_black\" href=\"https://auto.ru/cars/ac/cobra/used/color-belyj/\">белый</a></span>,\n",
       " <span class=\"CardInfoRow__cell\">Двигатель</span>,\n",
       " <span class=\"CardInfoRow__cell\"><div>4.9 л / 228 л.с. / <a class=\"Link Link_color_black\" href=\"https://auto.ru/cars/ac/cobra/used/?engine_type=GASOLINE\">Бензин</a></div></span>,\n",
       " <span class=\"CardInfoRow__cell\">Налог</span>,\n",
       " <span class=\"CardInfoRow__cell\">4 104 ₽ / год<div class=\"InfoPopup InfoPopup_theme_white CardInfoRow__tooltip\"><div class=\"Popup Popup_animation_full Popup-info\"></div></div></span>,\n",
       " <span class=\"CardInfoRow__cell\">Коробка</span>,\n",
       " <span class=\"CardInfoRow__cell\">механическая</span>,\n",
       " <span class=\"CardInfoRow__cell\">Привод</span>,\n",
       " <span class=\"CardInfoRow__cell\">задний</span>,\n",
       " <span class=\"CardInfoRow__cell\">Руль</span>,\n",
       " <span class=\"CardInfoRow__cell\">Левый</span>,\n",
       " <span class=\"CardInfoRow__cell\">Состояние</span>,\n",
       " <span class=\"CardInfoRow__cell\">Не требует ремонта</span>,\n",
       " <span class=\"CardInfoRow__cell\">Владельцы</span>,\n",
       " <span class=\"CardInfoRow__cell\">3 или более</span>,\n",
       " <span class=\"CardInfoRow__cell\">ПТС</span>,\n",
       " <span class=\"CardInfoRow__cell\">Дубликат</span>,\n",
       " <span class=\"CardInfoRow__cell\">Владение</span>,\n",
       " <span class=\"CardInfoRow__cell\">1 месяц</span>,\n",
       " <span class=\"CardInfoRow__cell\">Таможня</span>,\n",
       " <span class=\"CardInfoRow__cell\">Растаможен</span>,\n",
       " <span class=\"CardInfoRow__cell\">Кузов №</span>,\n",
       " <span class=\"CardInfoRow__cell\">66362***********</span>,\n",
       " <span class=\"CardInfoRow__cell\">Госномер</span>,\n",
       " <span class=\"CardInfoRow__cell\">******|125</span>,\n",
       " <span class=\"OfferPriceCaption\"><span class=\"OfferPriceCaption__price\">10 700 000 ₽</span></span>,\n",
       " <span class=\"OfferPriceCaption__price\">10 700 000 ₽</span>,\n",
       " <span class=\"Button__content\"><span class=\"ButtonFavorite-module__content HoveredTooltip__trigger\"><div class=\"ButtonFavorite-module__content ButtonFavorite-module__content_align_center\"><svg class=\"IconSvg IconSvg_favorite IconSvg_size_24 ButtonFavorite-module__icon\"><use xlink:href=\"#favorite\"></use></svg></div></span></span>,\n",
       " <span class=\"ButtonFavorite-module__content HoveredTooltip__trigger\"><div class=\"ButtonFavorite-module__content ButtonFavorite-module__content_align_center\"><svg class=\"IconSvg IconSvg_favorite IconSvg_size_24 ButtonFavorite-module__icon\"><use xlink:href=\"#favorite\"></use></svg></div></span>,\n",
       " <span class=\"Button__content\"><span class=\"ButtonCompare-module__tooltip HoveredTooltip__trigger\"><svg class=\"IconSvg IconSvg_compare IconSvg_size_24 ButtonCompare-module__icon\"><use xlink:href=\"#compare\"></use></svg> </span></span>,\n",
       " <span class=\"ButtonCompare-module__tooltip HoveredTooltip__trigger\"><svg class=\"IconSvg IconSvg_compare IconSvg_size_24 ButtonCompare-module__icon\"><use xlink:href=\"#compare\"></use></svg> </span>,\n",
       " <span class=\"Button__content\"><div class=\"ButtonNote-module__tooltip HoveredTooltip__trigger\"><svg class=\"IconSvg IconSvg_note IconSvg_size_24 ButtonNote-module__icon\"><use xlink:href=\"#note\"></use></svg></div></span>,\n",
       " <span class=\"Button__content\"><div class=\"ButtonShare-module__tooltip HoveredTooltip__trigger\"><svg class=\"IconSvg IconSvg_share IconSvg_size_24 ButtonShare-module__icon\"><use xlink:href=\"#share\"></use></svg></div></span>,\n",
       " <span class=\"Button__content\"><div class=\"Dropdown ButtonReport-module__content\"><div class=\"Dropdown__switcher ButtonReport-module__dropdown-switcher\"><div class=\"ButtonReport-module__content ButtonReport-module__content_align_center HoveredTooltip__trigger\"><svg class=\"IconSvg IconSvg_complaint IconSvg_size_24 ButtonReport-module__icon\"><use xlink:href=\"#complaint\"></use></svg></div></div><div class=\"Popup Popup_animation_full\"></div></div></span>,\n",
       " <span class=\"Link Link_color_gray CardSellerNamePlace__place\" role=\"button\" tabindex=\"0\"><span class=\"MetroListPlace MetroListPlace_twolines MetroListPlace_ellipsis CardSellerNamePlace__place\"><span class=\"MetroListPlace__regionName MetroListPlace_space\">Владивосток</span></span></span>,\n",
       " <span class=\"MetroListPlace MetroListPlace_twolines MetroListPlace_ellipsis CardSellerNamePlace__place\"><span class=\"MetroListPlace__regionName MetroListPlace_space\">Владивосток</span></span>,\n",
       " <span class=\"MetroListPlace__regionName MetroListPlace_space\">Владивосток</span>,\n",
       " <span class=\"Button__content\"><div class=\"PersonalMessage__content\"><svg class=\"IconSvg IconSvg_chat IconSvg_size_24 PersonalMessage__icon PersonalMessage__icon_color_grey\"><use xlink:href=\"#chat\"></use></svg><span class=\"PersonalMessage__caption\">Написать</span></div></span>,\n",
       " <span class=\"PersonalMessage__caption\">Написать</span>,\n",
       " <span class=\"Button__content\"><div class=\"\"><div class=\"OfferPhone-module__showPhoneText\">Показать телефон</div><div class=\"OfferPhone-module__placeholder OfferPhone__placeholder\">+7 ●●● ●●● ●● ●●</div></div></span>,\n",
       " <span>Оригинальная реплика 1967 года Ford AC COBRA 427. В ПТС , в особых отметках, есть об этом запись. Завезена в 2007 году через Японию во Владивосток. После реставрации . Все оригинал, кроме пыльников ,сальников и коврового покрытия салона. Объём двигателя 5.8. АКПП( автомат). Есть тканевая крыша .</span>,\n",
       " <span class=\"Button__content\"><span class=\"Price Price_free\">Посмотреть бесплатно</span></span>,\n",
       " <span class=\"Price Price_free\">Посмотреть бесплатно</span>,\n",
       " <span class=\"FooterCopyright\">© 1996–<!-- -->2021<!-- --> ООО «Яндекс.Вертикали»</span>]"
      ]
     },
     "execution_count": 50,
     "metadata": {},
     "output_type": "execute_result"
    }
   ],
   "source": [
    "first_parameters"
   ]
  },
  {
   "cell_type": "code",
   "execution_count": 51,
   "metadata": {},
   "outputs": [],
   "source": [
    "add = page5.find_all('li', {'class': 'ComplectationGroups__itemContentEl'})"
   ]
  },
  {
   "cell_type": "code",
   "execution_count": 52,
   "metadata": {},
   "outputs": [
    {
     "data": {
      "text/plain": [
       "[]"
      ]
     },
     "execution_count": 52,
     "metadata": {},
     "output_type": "execute_result"
    }
   ],
   "source": [
    "add"
   ]
  },
  {
   "cell_type": "code",
   "execution_count": 42,
   "metadata": {},
   "outputs": [
    {
     "data": {
      "text/plain": [
       "[]"
      ]
     },
     "execution_count": 42,
     "metadata": {},
     "output_type": "execute_result"
    }
   ],
   "source": [
    "date = page5.find_all('div', {'class' : 'frD7AaIjyoUEYVajhJsrO__info-item'})\n",
    "date"
   ]
  },
  {
   "cell_type": "code",
   "execution_count": 43,
   "metadata": {},
   "outputs": [
    {
     "data": {
      "text/plain": [
       "'[]'"
      ]
     },
     "execution_count": 43,
     "metadata": {},
     "output_type": "execute_result"
    }
   ],
   "source": [
    "str(date)"
   ]
  },
  {
   "cell_type": "code",
   "execution_count": null,
   "metadata": {},
   "outputs": [],
   "source": []
  }
 ],
 "metadata": {
  "kernelspec": {
   "display_name": "Python 3",
   "language": "python",
   "name": "python3"
  },
  "language_info": {
   "codemirror_mode": {
    "name": "ipython",
    "version": 3
   },
   "file_extension": ".py",
   "mimetype": "text/x-python",
   "name": "python",
   "nbconvert_exporter": "python",
   "pygments_lexer": "ipython3",
   "version": "3.7.6"
  }
 },
 "nbformat": 4,
 "nbformat_minor": 4
}
