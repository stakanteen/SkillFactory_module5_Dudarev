{
 "cells": [
  {
   "cell_type": "markdown",
   "metadata": {},
   "source": [
    "# Импортируем библиотеки"
   ]
  },
  {
   "cell_type": "code",
   "execution_count": 82,
   "metadata": {},
   "outputs": [],
   "source": [
    "import pandas as pd\n",
    "import numpy as np\n",
    "import requests\n",
    "from bs4 import BeautifulSoup\n",
    "from selenium import webdriver\n",
    "import time\n",
    "import re\n",
    "from datetime import datetime, time\n",
    "import os\n",
    "import json\n",
    "import re\n",
    "from collections import Counter\n",
    "import matplotlib\n",
    "import matplotlib.pyplot as plt\n",
    "import ast\n",
    "import string\n",
    "import plotly.express as px\n",
    "from plotly.subplots import make_subplots\n",
    "import plotly.graph_objects as go\n",
    "from scipy import stats\n",
    "from sklearn.preprocessing import MinMaxScaler\n",
    "from sklearn.preprocessing import StandardScaler\n",
    "from sklearn.linear_model import LinearRegression\n",
    "from sklearn.model_selection import train_test_split\n",
    "from sklearn.metrics import r2_score\n",
    "from plotly.subplots import make_subplots\n",
    "import plotly.graph_objects as go\n",
    "from scipy.stats import boxcox\n",
    "from sklearn.metrics import mean_absolute_percentage_error\n",
    "from sklearn.metrics import mean_squared_error, make_scorer\n",
    "from matplotlib import pyplot as plt\n",
    "from sklearn.linear_model import LogisticRegression\n",
    "from sklearn.model_selection import cross_val_score\n",
    "from sklearn.tree import DecisionTreeRegressor\n",
    "from sklearn.model_selection import RandomizedSearchCV\n",
    "from sklearn.ensemble import RandomForestRegressor\n",
    "from sklearn.ensemble import AdaBoostRegressor\n",
    "from sklearn.ensemble import GradientBoostingRegressor\n",
    "from sklearn.linear_model import RidgeCV\n",
    "from sklearn.svm import LinearSVR\n",
    "from sklearn.ensemble import StackingRegressor"
   ]
  },
  {
   "cell_type": "markdown",
   "metadata": {},
   "source": [
    "# Займемся моделями"
   ]
  },
  {
   "cell_type": "code",
   "execution_count": 83,
   "metadata": {},
   "outputs": [],
   "source": [
    "# Импортируем предподготовленный ДФ\n",
    "df = pd.read_csv('SF_DS_5_prepair.csv')\n",
    "df = df.drop('Unnamed: 0', axis=1)"
   ]
  },
  {
   "cell_type": "markdown",
   "metadata": {},
   "source": [
    "## Создадим dummy-переменные для категориальных признаков"
   ]
  },
  {
   "cell_type": "code",
   "execution_count": 84,
   "metadata": {},
   "outputs": [],
   "source": [
    "# Запишем категориальные переменные\n",
    "cat = ['body', 'brand', 'color', 'fuel', 'model', 'transmition', 'vendor', 'drive_type']\n",
    "# Получим дамми переменные\n",
    "df[pd.get_dummies(df[cat]).columns] = pd.get_dummies(df[cat])\n",
    "# Удалим категориальные переменные\n",
    "df.drop(cat, axis = 1, inplace = True)"
   ]
  },
  {
   "cell_type": "markdown",
   "metadata": {},
   "source": [
    "## Приступим к оформлению тренировочного и тестового ДФ"
   ]
  },
  {
   "cell_type": "code",
   "execution_count": 85,
   "metadata": {},
   "outputs": [],
   "source": [
    "df_test_kaggle = df[df['is_test'] == 1]\n",
    "df_test_kaggle = df_test_kaggle.drop(['price', 'real_price'], axis = 1)"
   ]
  },
  {
   "cell_type": "code",
   "execution_count": 86,
   "metadata": {},
   "outputs": [],
   "source": [
    "df = df[df['is_test'] == 0]"
   ]
  },
  {
   "cell_type": "markdown",
   "metadata": {},
   "source": [
    "## Разделим выборку (df) на тренировочную и валидационную"
   ]
  },
  {
   "cell_type": "code",
   "execution_count": 87,
   "metadata": {},
   "outputs": [],
   "source": [
    "num_col = ['V_engine', 'power', 'mileage', 'model_date', 'doors', 'date', 'owners', 'clearance', 'acceleration', \n",
    "          'word_in_description']"
   ]
  },
  {
   "cell_type": "code",
   "execution_count": 88,
   "metadata": {},
   "outputs": [],
   "source": [
    "# Удалим колонку \"real_price\"\n",
    "real_price = df['real_price']\n",
    "real_price.index = df.index\n",
    "df.drop('real_price', axis = 1, inplace = True)\n",
    "# Разделим на целевую переменную и признаки\n",
    "y = df['price']\n",
    "X = df.drop(['price','sell_id'], axis = 1)\n",
    "# Стандартизируем и нормализуем числовые признаки\n",
    "st_scaler = StandardScaler()\n",
    "X[num_col] = st_scaler.fit_transform(X[num_col])\n",
    "norm_scaler = MinMaxScaler()\n",
    "X[num_col] = norm_scaler.fit_transform(X[num_col])\n",
    "# Разделим на валидационную и тестовую\n",
    "X_train, X_test, y_train, y_test = train_test_split(X, y, test_size=0.20, random_state=42)"
   ]
  },
  {
   "cell_type": "markdown",
   "metadata": {},
   "source": [
    "## Метрикой будет служить MAPE\n",
    "Средняя абсолютная процентная ошибка"
   ]
  },
  {
   "cell_type": "markdown",
   "metadata": {},
   "source": [
    "### Обучим линейную регерссию\n",
    "Возьмём ее за базовую"
   ]
  },
  {
   "cell_type": "code",
   "execution_count": 9,
   "metadata": {},
   "outputs": [
    {
     "name": "stdout",
     "output_type": "stream",
     "text": [
      "MAPE для тренировочной выборки на логарифмированной цене - 0.016428160446833984\n",
      "MAPE для тренировочной выборки на нормальной цене - 0.2174277379152257\n",
      "MAPE для тестовой выборки на логарифмированной цене - 0.016614402320076896\n",
      "MAPE для тестовой выборки на нормальной цене - 0.2200930242254463\n"
     ]
    }
   ],
   "source": [
    "lin_reg = LinearRegression().fit(X_train, y_train)\n",
    "y_pred_train = lin_reg.predict(X_train)\n",
    "print('MAPE для тренировочной выборки на логарифмированной цене -', mean_absolute_percentage_error(y_train, y_pred_train))\n",
    "print('MAPE для тренировочной выборки на нормальной цене -', mean_absolute_percentage_error(real_price.loc[y_train.index], np.exp(y_pred_train)))\n",
    "y_pred_test = lin_reg.predict(X_test)\n",
    "print('MAPE для тестовой выборки на логарифмированной цене -', mean_absolute_percentage_error(y_test, y_pred_test))\n",
    "print('MAPE для тестовой выборки на нормальной цене -', mean_absolute_percentage_error(real_price.loc[y_test.index], np.exp(y_pred_test)))"
   ]
  },
  {
   "cell_type": "markdown",
   "metadata": {},
   "source": [
    "### Обучим линейную регрессию только на числовых признаках"
   ]
  },
  {
   "cell_type": "code",
   "execution_count": 9,
   "metadata": {},
   "outputs": [
    {
     "name": "stdout",
     "output_type": "stream",
     "text": [
      "MAPE для тренировочной выборки на логарифмированной цене - 0.024594452467426683\n",
      "MAPE для тренировочной выборки на нормальной цене - 0.3367755131568577\n",
      "MAPE для тестовой выборки на логарифмированной цене - 0.024779606716908546\n",
      "MAPE для тестовой выборки на нормальной цене - 0.34051911582262606\n"
     ]
    }
   ],
   "source": [
    "lin_reg_num = LinearRegression().fit(X_train[num_col], y_train)\n",
    "y_pred_train = lin_reg_num.predict(X_train[num_col])\n",
    "print('MAPE для тренировочной выборки на логарифмированной цене -', mean_absolute_percentage_error(y_train, y_pred_train))\n",
    "print('MAPE для тренировочной выборки на нормальной цене -', mean_absolute_percentage_error(real_price.loc[y_train.index], np.exp(y_pred_train)))\n",
    "y_pred_test = lin_reg_num.predict(X_test[num_col])\n",
    "print('MAPE для тестовой выборки на логарифмированной цене -', mean_absolute_percentage_error(y_test, y_pred_test))\n",
    "print('MAPE для тестовой выборки на нормальной цене -', mean_absolute_percentage_error(real_price.loc[y_test.index], np.exp(y_pred_test)))"
   ]
  },
  {
   "cell_type": "markdown",
   "metadata": {},
   "source": [
    "### Добавим признаков"
   ]
  },
  {
   "cell_type": "code",
   "execution_count": 89,
   "metadata": {},
   "outputs": [],
   "source": [
    "X['doors_owners'] = X['doors'] * X['owners']\n",
    "X['V_engine_mileage'] = X['V_engine'] * X['mileage']\n",
    "X['model_date_date'] = X['date'] - X['model_date'] \n",
    "X['clearance_acc'] = X['clearance']*X['acceleration']\n",
    "X['mileage_power'] = X['mileage']*X['power']\n",
    "X['V_engine_power'] = X['V_engine'] * X['power']\n",
    "X_train, X_test, y_train, y_test = train_test_split(X, y, test_size=0.20, random_state=42)"
   ]
  },
  {
   "cell_type": "markdown",
   "metadata": {},
   "source": [
    "### Заново обучим линейную регерссию"
   ]
  },
  {
   "cell_type": "code",
   "execution_count": 11,
   "metadata": {},
   "outputs": [
    {
     "name": "stdout",
     "output_type": "stream",
     "text": [
      "MAPE для тренировочной выборки на логарифмированной цене - 0.016311601873839468\n",
      "MAPE для тренировочной выборки на нормальной цене - 0.21568618507572754\n",
      "MAPE для тестовой выборки на логарифмированной цене - 0.01650764106090205\n",
      "MAPE для тестовой выборки на нормальной цене - 0.21839409959910525\n"
     ]
    }
   ],
   "source": [
    "lin_reg = LinearRegression().fit(X_train, y_train)\n",
    "y_pred_train = lin_reg.predict(X_train)\n",
    "print('MAPE для тренировочной выборки на логарифмированной цене -', mean_absolute_percentage_error(y_train, y_pred_train))\n",
    "print('MAPE для тренировочной выборки на нормальной цене -', mean_absolute_percentage_error(real_price.loc[y_train.index], np.exp(y_pred_train)))\n",
    "y_pred_test = lin_reg.predict(X_test)\n",
    "print('MAPE для тестовой выборки на логарифмированной цене -', mean_absolute_percentage_error(y_test, y_pred_test))\n",
    "print('MAPE для тестовой выборки на нормальной цене -', mean_absolute_percentage_error(real_price.loc[y_test.index], np.exp(y_pred_test)))"
   ]
  },
  {
   "cell_type": "markdown",
   "metadata": {},
   "source": [
    "### Обучим лес"
   ]
  },
  {
   "cell_type": "code",
   "execution_count": 12,
   "metadata": {},
   "outputs": [
    {
     "name": "stdout",
     "output_type": "stream",
     "text": [
      "MAPE для тренировочной выборки на логарифмированной цене - 6.537852652666519e-05\n",
      "MAPE для тренировочной выборки на нормальной цене - 0.0009063418089238547\n",
      "MAPE для тестовой выборки на логарифмированной цене - 0.013228811501296163\n",
      "MAPE для тестовой выборки на нормальной цене - 0.17574336042038124\n",
      "{'ccp_alpha': 0.0, 'criterion': 'mse', 'max_depth': None, 'max_features': None, 'max_leaf_nodes': None, 'min_impurity_decrease': 0.0, 'min_impurity_split': None, 'min_samples_leaf': 1, 'min_samples_split': 2, 'min_weight_fraction_leaf': 0.0, 'random_state': 42, 'splitter': 'best'}\n",
      "depth - 50\n",
      "n_leaves - 145483\n"
     ]
    }
   ],
   "source": [
    "tree_reg = DecisionTreeRegressor(random_state=42)\n",
    "tree_reg.fit(X_train, y_train)\n",
    "y_pred_train = tree_reg.predict(X_train)\n",
    "print('MAPE для тренировочной выборки на логарифмированной цене -', mean_absolute_percentage_error(y_train, y_pred_train))\n",
    "print('MAPE для тренировочной выборки на нормальной цене -', mean_absolute_percentage_error(real_price.loc[y_train.index], np.exp(y_pred_train)))\n",
    "y_pred_test = tree_reg.predict(X_test)\n",
    "print('MAPE для тестовой выборки на логарифмированной цене -', mean_absolute_percentage_error(y_test, y_pred_test))\n",
    "print('MAPE для тестовой выборки на нормальной цене -', mean_absolute_percentage_error(real_price.loc[y_test.index], np.exp(y_pred_test)))\n",
    "print(tree_reg.get_params())\n",
    "print('depth -', tree_reg.get_depth())\n",
    "print('n_leaves -', tree_reg.get_n_leaves())"
   ]
  },
  {
   "cell_type": "code",
   "execution_count": 13,
   "metadata": {},
   "outputs": [
    {
     "name": "stdout",
     "output_type": "stream",
     "text": [
      "MAPE для тренировочной выборки на логарифмированной цене - 0.009850894206516041\n",
      "MAPE для тренировочной выборки на нормальной цене - 0.12603172297405207\n",
      "MAPE для тестовой выборки на логарифмированной цене - 0.012576974440306527\n",
      "MAPE для тестовой выборки на нормальной цене - 0.1645598923465765\n"
     ]
    }
   ],
   "source": [
    "tree_reg = DecisionTreeRegressor(random_state=42, max_depth = 15)\n",
    "tree_reg.fit(X_train, y_train)\n",
    "y_pred_train = tree_reg.predict(X_train)\n",
    "print('MAPE для тренировочной выборки на логарифмированной цене -', mean_absolute_percentage_error(y_train, y_pred_train))\n",
    "print('MAPE для тренировочной выборки на нормальной цене -', mean_absolute_percentage_error(real_price.loc[y_train.index], np.exp(y_pred_train)))\n",
    "y_pred_test = tree_reg.predict(X_test)\n",
    "print('MAPE для тестовой выборки на логарифмированной цене -', mean_absolute_percentage_error(y_test, y_pred_test))\n",
    "print('MAPE для тестовой выборки на нормальной цене -', mean_absolute_percentage_error(real_price.loc[y_test.index], np.exp(y_pred_test)))"
   ]
  },
  {
   "cell_type": "markdown",
   "metadata": {},
   "source": [
    "### Случайный лес"
   ]
  },
  {
   "cell_type": "code",
   "execution_count": 10,
   "metadata": {},
   "outputs": [],
   "source": [
    "# Создадим сетку для поиска лучших параметров\n",
    "n_estimators = [int(x) for x in np.linspace(start = 10, stop = 100, num = 10)]\n",
    "max_features = ['auto', 'sqrt']\n",
    "max_depth = [int(x) for x in np.linspace(10, 50, num = 10)]\n",
    "max_depth.append(None)\n",
    "min_samples_split = [2, 5, 10]\n",
    "min_samples_leaf = [1, 2, 4]\n",
    "bootstrap = [True, False]\n",
    "random_grid = {'n_estimators': n_estimators,\n",
    "               'max_features': max_features,\n",
    "               'max_depth': max_depth,\n",
    "               'min_samples_split': min_samples_split,\n",
    "               'min_samples_leaf': min_samples_leaf,\n",
    "               'bootstrap': bootstrap}"
   ]
  },
  {
   "cell_type": "code",
   "execution_count": 11,
   "metadata": {},
   "outputs": [
    {
     "name": "stdout",
     "output_type": "stream",
     "text": [
      "Fitting 3 folds for each of 10 candidates, totalling 30 fits\n"
     ]
    },
    {
     "data": {
      "text/plain": [
       "RandomizedSearchCV(cv=3, estimator=RandomForestRegressor(random_state=42),\n",
       "                   n_jobs=-1,\n",
       "                   param_distributions={'bootstrap': [True, False],\n",
       "                                        'max_depth': [10, 14, 18, 23, 27, 32,\n",
       "                                                      36, 41, 45, 50, None],\n",
       "                                        'max_features': ['auto', 'sqrt'],\n",
       "                                        'min_samples_leaf': [1, 2, 4],\n",
       "                                        'min_samples_split': [2, 5, 10],\n",
       "                                        'n_estimators': [10, 14, 19, 24, 28, 33,\n",
       "                                                         38, 43, 47, 52, 57, 62,\n",
       "                                                         66, 71, 76, 81, 85, 90,\n",
       "                                                         95, 100]},\n",
       "                   random_state=42, verbose=2)"
      ]
     },
     "execution_count": 11,
     "metadata": {},
     "output_type": "execute_result"
    }
   ],
   "source": [
    "#rf = RandomForestRegressor(random_state=42)\n",
    "#rf_random = RandomizedSearchCV(estimator=rf, param_distributions=random_grid, n_iter=10, \n",
    "#                               cv=3, verbose=2, random_state=42, n_jobs=-1)\n",
    "#rf_random.fit(X_train, y_train)"
   ]
  },
  {
   "cell_type": "code",
   "execution_count": 12,
   "metadata": {},
   "outputs": [
    {
     "data": {
      "text/plain": [
       "{'n_estimators': 38,\n",
       " 'min_samples_split': 2,\n",
       " 'min_samples_leaf': 1,\n",
       " 'max_features': 'sqrt',\n",
       " 'max_depth': 23,\n",
       " 'bootstrap': False}"
      ]
     },
     "execution_count": 12,
     "metadata": {},
     "output_type": "execute_result"
    }
   ],
   "source": [
    "#rf_random.best_params_"
   ]
  },
  {
   "cell_type": "code",
   "execution_count": 14,
   "metadata": {},
   "outputs": [
    {
     "name": "stdout",
     "output_type": "stream",
     "text": [
      "MAPE для тренировочной выборки на логарифмированной цене - 0.004644223332718792\n",
      "MAPE для тренировочной выборки на нормальной цене - 0.058043638468342575\n",
      "MAPE для тестовой выборки на логарифмированной цене - 0.01019724767748368\n",
      "MAPE для тестовой выборки на нормальной цене - 0.13088936854630495\n"
     ]
    }
   ],
   "source": [
    "rf_best = RandomForestRegressor(random_state=42, n_estimators = 38, min_samples_split = 2, max_features = 'sqrt',\n",
    "                          max_depth = 23, bootstrap = False, n_jobs = -1)\n",
    "rf_best.fit(X_train, y_train)\n",
    "y_pred_train = rf_best.predict(X_train)\n",
    "print('MAPE для тренировочной выборки на логарифмированной цене -', mean_absolute_percentage_error(y_train, y_pred_train))\n",
    "print('MAPE для тренировочной выборки на нормальной цене -', mean_absolute_percentage_error(real_price.loc[y_train.index], np.exp(y_pred_train)))\n",
    "y_pred_test = rf_best.predict(X_test)\n",
    "print('MAPE для тестовой выборки на логарифмированной цене -', mean_absolute_percentage_error(y_test, y_pred_test))\n",
    "print('MAPE для тестовой выборки на нормальной цене -', mean_absolute_percentage_error(real_price.loc[y_test.index], np.exp(y_pred_test)))"
   ]
  },
  {
   "cell_type": "markdown",
   "metadata": {},
   "source": [
    "### ADA Boost"
   ]
  },
  {
   "cell_type": "code",
   "execution_count": 18,
   "metadata": {},
   "outputs": [],
   "source": [
    "ab_reg = AdaBoostRegressor(base_estimator = RandomForestRegressor(random_state=42, n_estimators = 38, min_samples_split = 2, max_features = 'sqrt',\n",
    "                          max_depth = 23, bootstrap = False, n_jobs = -1), random_state=42, n_estimators=10, loss = 'linear')"
   ]
  },
  {
   "cell_type": "code",
   "execution_count": 19,
   "metadata": {},
   "outputs": [
    {
     "name": "stdout",
     "output_type": "stream",
     "text": [
      "MAPE для тренировочной выборки на логарифмированной цене - 0.005022662360787289\n",
      "MAPE для тренировочной выборки на нормальной цене - 0.062481492311116764\n",
      "MAPE для тестовой выборки на логарифмированной цене - 0.010208585748426\n",
      "MAPE для тестовой выборки на нормальной цене - 0.13053956012493448\n"
     ]
    }
   ],
   "source": [
    "ab_reg.fit(X_train, y_train)\n",
    "y_pred_train = ab_reg.predict(X_train)\n",
    "print('MAPE для тренировочной выборки на логарифмированной цене -', mean_absolute_percentage_error(y_train, y_pred_train))\n",
    "print('MAPE для тренировочной выборки на нормальной цене -', mean_absolute_percentage_error(real_price.loc[y_train.index], np.exp(y_pred_train)))\n",
    "y_pred_test = ab_reg.predict(X_test)\n",
    "print('MAPE для тестовой выборки на логарифмированной цене -', mean_absolute_percentage_error(y_test, y_pred_test))\n",
    "print('MAPE для тестовой выборки на нормальной цене -', mean_absolute_percentage_error(real_price.loc[y_test.index], np.exp(y_pred_test)))"
   ]
  },
  {
   "cell_type": "markdown",
   "metadata": {},
   "source": [
    "### Gradient boosting"
   ]
  },
  {
   "cell_type": "code",
   "execution_count": 21,
   "metadata": {},
   "outputs": [],
   "source": [
    "gb_reg = GradientBoostingRegressor()"
   ]
  },
  {
   "cell_type": "code",
   "execution_count": 22,
   "metadata": {},
   "outputs": [
    {
     "name": "stdout",
     "output_type": "stream",
     "text": [
      "MAPE для тренировочной выборки на логарифмированной цене - 0.015561522476176131\n",
      "MAPE для тренировочной выборки на нормальной цене - 0.20424352465474505\n",
      "MAPE для тестовой выборки на логарифмированной цене - 0.015782679659450946\n",
      "MAPE для тестовой выборки на нормальной цене - 0.20726961483884554\n"
     ]
    }
   ],
   "source": [
    "gb_reg.fit(X_train, y_train)\n",
    "y_pred_train = gb_reg.predict(X_train)\n",
    "print('MAPE для тренировочной выборки на логарифмированной цене -', mean_absolute_percentage_error(y_train, y_pred_train))\n",
    "print('MAPE для тренировочной выборки на нормальной цене -', mean_absolute_percentage_error(real_price.loc[y_train.index], np.exp(y_pred_train)))\n",
    "y_pred_test = gb_reg.predict(X_test)\n",
    "print('MAPE для тестовой выборки на логарифмированной цене -', mean_absolute_percentage_error(y_test, y_pred_test))\n",
    "print('MAPE для тестовой выборки на нормальной цене -', mean_absolute_percentage_error(real_price.loc[y_test.index], np.exp(y_pred_test)))"
   ]
  },
  {
   "cell_type": "code",
   "execution_count": 37,
   "metadata": {},
   "outputs": [],
   "source": [
    "# Создадим сетку для поиска лучших параметров\n",
    "learning_rate = [int(x)/10 for x in np.linspace(start = 1, stop = 10, num = 5)]\n",
    "n_estimators = [int(x) for x in np.linspace(start = 10, stop = 100, num = 10)]\n",
    "min_samples_split = [2, 5, 10]\n",
    "min_samples_leaf = [1, 2, 4]\n",
    "max_depth = [int(x) for x in np.linspace(10, 50, num = 5)]\n",
    "max_depth.append(None)\n",
    "max_features = ['auto', 'sqrt']\n",
    "alpha = [int(x)/10 for x in np.linspace(start = 1, stop = 9, num = 5)]\n",
    "random_grid = {'learning_rate': learning_rate,\n",
    "               'n_estimators': n_estimators,\n",
    "               'min_samples_split': min_samples_split,\n",
    "               'min_samples_leaf': min_samples_leaf,               \n",
    "               'max_depth': max_depth,\n",
    "               'max_features': max_features,\n",
    "               'alpha': alpha}"
   ]
  },
  {
   "cell_type": "code",
   "execution_count": 38,
   "metadata": {},
   "outputs": [
    {
     "name": "stdout",
     "output_type": "stream",
     "text": [
      "Fitting 3 folds for each of 10 candidates, totalling 30 fits\n"
     ]
    },
    {
     "data": {
      "text/plain": [
       "RandomizedSearchCV(cv=3, estimator=GradientBoostingRegressor(random_state=42),\n",
       "                   n_jobs=-1,\n",
       "                   param_distributions={'alpha': [0.1, 0.3, 0.5, 0.7, 0.9],\n",
       "                                        'learning_rate': [0.1, 0.3, 0.5, 0.7,\n",
       "                                                          1.0],\n",
       "                                        'max_depth': [10, 20, 30, 40, 50, None],\n",
       "                                        'max_features': ['auto', 'sqrt'],\n",
       "                                        'min_samples_leaf': [1, 2, 4],\n",
       "                                        'min_samples_split': [2, 5, 10],\n",
       "                                        'n_estimators': [10, 20, 30, 40, 50, 60,\n",
       "                                                         70, 80, 90, 100]},\n",
       "                   random_state=42, verbose=2)"
      ]
     },
     "execution_count": 38,
     "metadata": {},
     "output_type": "execute_result"
    }
   ],
   "source": [
    "rf = GradientBoostingRegressor(random_state=42)\n",
    "rf_random = RandomizedSearchCV(estimator=rf, param_distributions=random_grid, n_iter=10, \n",
    "                               cv=3, verbose=2, random_state=42, n_jobs=-1)\n",
    "rf_random.fit(X_train, y_train)"
   ]
  },
  {
   "cell_type": "code",
   "execution_count": 39,
   "metadata": {},
   "outputs": [
    {
     "data": {
      "text/plain": [
       "{'n_estimators': 90,\n",
       " 'min_samples_split': 2,\n",
       " 'min_samples_leaf': 4,\n",
       " 'max_features': 'sqrt',\n",
       " 'max_depth': 30,\n",
       " 'learning_rate': 0.1,\n",
       " 'alpha': 0.9}"
      ]
     },
     "execution_count": 39,
     "metadata": {},
     "output_type": "execute_result"
    }
   ],
   "source": [
    "rf_random.best_params_"
   ]
  },
  {
   "cell_type": "code",
   "execution_count": 44,
   "metadata": {},
   "outputs": [],
   "source": [
    "gb_reg = GradientBoostingRegressor(n_estimators = 90, min_samples_split = 2, min_samples_leaf = 4, max_features = 'sqrt',\n",
    "                                  max_depth = 30, learning_rate = 0.1, alpha = 0.9)"
   ]
  },
  {
   "cell_type": "code",
   "execution_count": 45,
   "metadata": {},
   "outputs": [
    {
     "name": "stdout",
     "output_type": "stream",
     "text": [
      "MAPE для тренировочной выборки на логарифмированной цене - 0.003097334815117891\n",
      "MAPE для тренировочной выборки на нормальной цене - 0.03859653200926517\n",
      "MAPE для тестовой выборки на логарифмированной цене - 0.010216172733756893\n",
      "MAPE для тестовой выборки на нормальной цене - 0.1312034513609127\n"
     ]
    }
   ],
   "source": [
    "gb_reg.fit(X_train, y_train)\n",
    "y_pred_train = gb_reg.predict(X_train)\n",
    "print('MAPE для тренировочной выборки на логарифмированной цене -', mean_absolute_percentage_error(y_train, y_pred_train))\n",
    "print('MAPE для тренировочной выборки на нормальной цене -', mean_absolute_percentage_error(real_price.loc[y_train.index], np.exp(y_pred_train)))\n",
    "y_pred_test = gb_reg.predict(X_test)\n",
    "print('MAPE для тестовой выборки на логарифмированной цене -', mean_absolute_percentage_error(y_test, y_pred_test))\n",
    "print('MAPE для тестовой выборки на нормальной цене -', mean_absolute_percentage_error(real_price.loc[y_test.index], np.exp(y_pred_test)))"
   ]
  },
  {
   "cell_type": "markdown",
   "metadata": {},
   "source": [
    "### Stacking"
   ]
  },
  {
   "cell_type": "code",
   "execution_count": 55,
   "metadata": {},
   "outputs": [],
   "source": [
    "estimators = [\n",
    "     ('lr', RidgeCV()),\n",
    "     ('svr', LinearSVR(random_state=42)),\n",
    "     ('gb', GradientBoostingRegressor(n_estimators = 90, min_samples_split = 2, min_samples_leaf = 4, max_features = 'sqrt',\n",
    "                                  max_depth = 30, learning_rate = 0.1, alpha = 0.9)),\n",
    "     ('rf', RandomForestRegressor(random_state=42, n_estimators = 38, min_samples_split = 2, max_features = 'sqrt',\n",
    "                          max_depth = 23, bootstrap = False, n_jobs = -1))\n",
    "]\n",
    "st_reg = StackingRegressor(\n",
    "     estimators=estimators,\n",
    "     final_estimator=RandomForestRegressor(n_estimators=10,\n",
    "                                           random_state=42), n_jobs = -1)"
   ]
  },
  {
   "cell_type": "code",
   "execution_count": 54,
   "metadata": {},
   "outputs": [
    {
     "name": "stderr",
     "output_type": "stream",
     "text": [
      "C:\\Users\\kosty\\programms\\anaconda3\\lib\\site-packages\\sklearn\\svm\\_base.py:986: ConvergenceWarning: Liblinear failed to converge, increase the number of iterations.\n",
      "  \"the number of iterations.\", ConvergenceWarning)\n",
      "C:\\Users\\kosty\\programms\\anaconda3\\lib\\site-packages\\sklearn\\svm\\_base.py:986: ConvergenceWarning: Liblinear failed to converge, increase the number of iterations.\n",
      "  \"the number of iterations.\", ConvergenceWarning)\n",
      "C:\\Users\\kosty\\programms\\anaconda3\\lib\\site-packages\\sklearn\\svm\\_base.py:986: ConvergenceWarning: Liblinear failed to converge, increase the number of iterations.\n",
      "  \"the number of iterations.\", ConvergenceWarning)\n",
      "C:\\Users\\kosty\\programms\\anaconda3\\lib\\site-packages\\sklearn\\svm\\_base.py:986: ConvergenceWarning: Liblinear failed to converge, increase the number of iterations.\n",
      "  \"the number of iterations.\", ConvergenceWarning)\n",
      "C:\\Users\\kosty\\programms\\anaconda3\\lib\\site-packages\\sklearn\\svm\\_base.py:986: ConvergenceWarning: Liblinear failed to converge, increase the number of iterations.\n",
      "  \"the number of iterations.\", ConvergenceWarning)\n",
      "C:\\Users\\kosty\\programms\\anaconda3\\lib\\site-packages\\sklearn\\svm\\_base.py:986: ConvergenceWarning: Liblinear failed to converge, increase the number of iterations.\n",
      "  \"the number of iterations.\", ConvergenceWarning)\n"
     ]
    },
    {
     "name": "stdout",
     "output_type": "stream",
     "text": [
      "MAPE для тренировочной выборки на логарифмированной цене - 0.006314018875961251\n",
      "MAPE для тренировочной выборки на нормальной цене - 0.07901886155786951\n",
      "MAPE для тестовой выборки на логарифмированной цене - 0.0111292721423741\n",
      "MAPE для тестовой выборки на нормальной цене - 0.14295029017388763\n"
     ]
    }
   ],
   "source": [
    "st_reg.fit(X_train, y_train)\n",
    "y_pred_train = st_reg.predict(X_train)\n",
    "print('MAPE для тренировочной выборки на логарифмированной цене -', mean_absolute_percentage_error(y_train, y_pred_train))\n",
    "print('MAPE для тренировочной выборки на нормальной цене -', mean_absolute_percentage_error(real_price.loc[y_train.index], np.exp(y_pred_train)))\n",
    "y_pred_test = st_reg.predict(X_test)\n",
    "print('MAPE для тестовой выборки на логарифмированной цене -', mean_absolute_percentage_error(y_test, y_pred_test))\n",
    "print('MAPE для тестовой выборки на нормальной цене -', mean_absolute_percentage_error(real_price.loc[y_test.index], np.exp(y_pred_test)))"
   ]
  },
  {
   "cell_type": "code",
   "execution_count": 90,
   "metadata": {},
   "outputs": [],
   "source": [
    "  estimators = [\n",
    "     ('gb', GradientBoostingRegressor(n_estimators = 90, min_samples_split = 2, min_samples_leaf = 4, max_features = 'sqrt',\n",
    "                                  max_depth = 30, learning_rate = 0.1, alpha = 0.9)),\n",
    "     ('rf', RandomForestRegressor(random_state=42, n_estimators = 38, min_samples_split = 2, max_features = 'sqrt',\n",
    "                          max_depth = 23, bootstrap = False, n_jobs = -1))\n",
    "]\n",
    "st_reg = StackingRegressor(\n",
    "     estimators=estimators,\n",
    "    n_jobs = -1\n",
    ")"
   ]
  },
  {
   "cell_type": "code",
   "execution_count": 91,
   "metadata": {},
   "outputs": [
    {
     "name": "stdout",
     "output_type": "stream",
     "text": [
      "MAPE для тренировочной выборки на логарифмированной цене - 0.003208975030116997\n",
      "MAPE для тренировочной выборки на нормальной цене - 0.039860283129458246\n",
      "MAPE для тестовой выборки на логарифмированной цене - 0.009941229642810693\n",
      "MAPE для тестовой выборки на нормальной цене - 0.12764768978209967\n"
     ]
    }
   ],
   "source": [
    "st_reg.fit(X_train, y_train)\n",
    "y_pred_train = st_reg.predict(X_train)\n",
    "print('MAPE для тренировочной выборки на логарифмированной цене -', mean_absolute_percentage_error(y_train, y_pred_train))\n",
    "print('MAPE для тренировочной выборки на нормальной цене -', mean_absolute_percentage_error(real_price.loc[y_train.index], np.exp(y_pred_train)))\n",
    "y_pred_test = st_reg.predict(X_test)\n",
    "print('MAPE для тестовой выборки на логарифмированной цене -', mean_absolute_percentage_error(y_test, y_pred_test))\n",
    "print('MAPE для тестовой выборки на нормальной цене -', mean_absolute_percentage_error(real_price.loc[y_test.index], np.exp(y_pred_test)))"
   ]
  },
  {
   "cell_type": "markdown",
   "metadata": {},
   "source": [
    "# Лучшая модель - последний стэкинг"
   ]
  },
  {
   "cell_type": "markdown",
   "metadata": {},
   "source": [
    "### Сделаем предсказание"
   ]
  },
  {
   "cell_type": "code",
   "execution_count": 92,
   "metadata": {},
   "outputs": [],
   "source": [
    "sell_id = df_test_kaggle['sell_id']\n",
    "df_test_kaggle.drop('sell_id', axis = 1, inplace = True)"
   ]
  },
  {
   "cell_type": "code",
   "execution_count": 93,
   "metadata": {},
   "outputs": [],
   "source": [
    "# Стандартизируем и нормализуем датасет\n",
    "#st_scaler = StandardScaler()\n",
    "df_test_kaggle[num_col] = st_scaler.transform(df_test_kaggle[num_col])\n",
    "#norm_scaler = MinMaxScaler()\n",
    "df_test_kaggle[num_col] = norm_scaler.transform(df_test_kaggle[num_col])"
   ]
  },
  {
   "cell_type": "code",
   "execution_count": 94,
   "metadata": {},
   "outputs": [],
   "source": [
    "# Добавим переменные\n",
    "df_test_kaggle['doors_owners']     = df_test_kaggle['doors'] *    df_test_kaggle['owners']\n",
    "df_test_kaggle['V_engine_mileage'] = df_test_kaggle['V_engine'] * df_test_kaggle['mileage']\n",
    "df_test_kaggle['model_date_date']  = df_test_kaggle['date'] -     df_test_kaggle['model_date'] \n",
    "df_test_kaggle['clearance_acc']    = df_test_kaggle['clearance']* df_test_kaggle['acceleration']\n",
    "df_test_kaggle['mileage_power']    = df_test_kaggle['mileage']*   df_test_kaggle['power']\n",
    "df_test_kaggle['V_engine_power']   = df_test_kaggle['V_engine'] * df_test_kaggle['power']"
   ]
  },
  {
   "cell_type": "code",
   "execution_count": 97,
   "metadata": {},
   "outputs": [
    {
     "data": {
      "text/plain": [
       "array([ 682051.,  976824.,  925885., ...,  224676., 1231048., 1121577.])"
      ]
     },
     "execution_count": 97,
     "metadata": {},
     "output_type": "execute_result"
    }
   ],
   "source": [
    "# Сделаем предсказание\n",
    "y_ans = st_reg.predict(df_test_kaggle)\n",
    "y_ans = np.exp(y_ans)\n",
    "y_ans = np.around(y_ans)\n",
    "y_ans"
   ]
  },
  {
   "cell_type": "code",
   "execution_count": 98,
   "metadata": {},
   "outputs": [
    {
     "data": {
      "text/html": [
       "<div>\n",
       "<style scoped>\n",
       "    .dataframe tbody tr th:only-of-type {\n",
       "        vertical-align: middle;\n",
       "    }\n",
       "\n",
       "    .dataframe tbody tr th {\n",
       "        vertical-align: top;\n",
       "    }\n",
       "\n",
       "    .dataframe thead th {\n",
       "        text-align: right;\n",
       "    }\n",
       "</style>\n",
       "<table border=\"1\" class=\"dataframe\">\n",
       "  <thead>\n",
       "    <tr style=\"text-align: right;\">\n",
       "      <th></th>\n",
       "      <th>sell_id</th>\n",
       "      <th>price</th>\n",
       "    </tr>\n",
       "  </thead>\n",
       "  <tbody>\n",
       "    <tr>\n",
       "      <th>213019</th>\n",
       "      <td>1100575026</td>\n",
       "      <td>682051.0</td>\n",
       "    </tr>\n",
       "    <tr>\n",
       "      <th>213020</th>\n",
       "      <td>1100549428</td>\n",
       "      <td>976824.0</td>\n",
       "    </tr>\n",
       "    <tr>\n",
       "      <th>213021</th>\n",
       "      <td>1100658222</td>\n",
       "      <td>925885.0</td>\n",
       "    </tr>\n",
       "    <tr>\n",
       "      <th>213022</th>\n",
       "      <td>1100937408</td>\n",
       "      <td>844231.0</td>\n",
       "    </tr>\n",
       "    <tr>\n",
       "      <th>213023</th>\n",
       "      <td>1101037972</td>\n",
       "      <td>882611.0</td>\n",
       "    </tr>\n",
       "    <tr>\n",
       "      <th>...</th>\n",
       "      <td>...</td>\n",
       "      <td>...</td>\n",
       "    </tr>\n",
       "    <tr>\n",
       "      <th>247700</th>\n",
       "      <td>1101369263</td>\n",
       "      <td>1010436.0</td>\n",
       "    </tr>\n",
       "    <tr>\n",
       "      <th>247701</th>\n",
       "      <td>1101369581</td>\n",
       "      <td>2377358.0</td>\n",
       "    </tr>\n",
       "    <tr>\n",
       "      <th>247702</th>\n",
       "      <td>1101364889</td>\n",
       "      <td>224676.0</td>\n",
       "    </tr>\n",
       "    <tr>\n",
       "      <th>247703</th>\n",
       "      <td>1101362518</td>\n",
       "      <td>1231048.0</td>\n",
       "    </tr>\n",
       "    <tr>\n",
       "      <th>247704</th>\n",
       "      <td>1101256068</td>\n",
       "      <td>1121577.0</td>\n",
       "    </tr>\n",
       "  </tbody>\n",
       "</table>\n",
       "<p>34686 rows × 2 columns</p>\n",
       "</div>"
      ],
      "text/plain": [
       "           sell_id      price\n",
       "213019  1100575026   682051.0\n",
       "213020  1100549428   976824.0\n",
       "213021  1100658222   925885.0\n",
       "213022  1100937408   844231.0\n",
       "213023  1101037972   882611.0\n",
       "...            ...        ...\n",
       "247700  1101369263  1010436.0\n",
       "247701  1101369581  2377358.0\n",
       "247702  1101364889   224676.0\n",
       "247703  1101362518  1231048.0\n",
       "247704  1101256068  1121577.0\n",
       "\n",
       "[34686 rows x 2 columns]"
      ]
     },
     "execution_count": 98,
     "metadata": {},
     "output_type": "execute_result"
    }
   ],
   "source": [
    "ans = pd.DataFrame()\n",
    "ans['sell_id'] = sell_id\n",
    "ans['price'] = y_ans\n",
    "ans"
   ]
  },
  {
   "cell_type": "code",
   "execution_count": 106,
   "metadata": {},
   "outputs": [],
   "source": [
    "sample_submission = pd.read_csv('c:/Users/kosty/SF DS Project 5/sample_submission.csv', sep = ',', encoding = 'utf-8')"
   ]
  },
  {
   "cell_type": "code",
   "execution_count": 107,
   "metadata": {},
   "outputs": [
    {
     "data": {
      "text/html": [
       "<div>\n",
       "<style scoped>\n",
       "    .dataframe tbody tr th:only-of-type {\n",
       "        vertical-align: middle;\n",
       "    }\n",
       "\n",
       "    .dataframe tbody tr th {\n",
       "        vertical-align: top;\n",
       "    }\n",
       "\n",
       "    .dataframe thead th {\n",
       "        text-align: right;\n",
       "    }\n",
       "</style>\n",
       "<table border=\"1\" class=\"dataframe\">\n",
       "  <thead>\n",
       "    <tr style=\"text-align: right;\">\n",
       "      <th></th>\n",
       "      <th>sell_id</th>\n",
       "      <th>price</th>\n",
       "    </tr>\n",
       "  </thead>\n",
       "  <tbody>\n",
       "    <tr>\n",
       "      <th>0</th>\n",
       "      <td>1100575026</td>\n",
       "      <td>0</td>\n",
       "    </tr>\n",
       "    <tr>\n",
       "      <th>1</th>\n",
       "      <td>1100549428</td>\n",
       "      <td>0</td>\n",
       "    </tr>\n",
       "    <tr>\n",
       "      <th>2</th>\n",
       "      <td>1100658222</td>\n",
       "      <td>0</td>\n",
       "    </tr>\n",
       "    <tr>\n",
       "      <th>3</th>\n",
       "      <td>1100937408</td>\n",
       "      <td>0</td>\n",
       "    </tr>\n",
       "    <tr>\n",
       "      <th>4</th>\n",
       "      <td>1101037972</td>\n",
       "      <td>0</td>\n",
       "    </tr>\n",
       "    <tr>\n",
       "      <th>...</th>\n",
       "      <td>...</td>\n",
       "      <td>...</td>\n",
       "    </tr>\n",
       "    <tr>\n",
       "      <th>34681</th>\n",
       "      <td>1101369263</td>\n",
       "      <td>0</td>\n",
       "    </tr>\n",
       "    <tr>\n",
       "      <th>34682</th>\n",
       "      <td>1101369581</td>\n",
       "      <td>0</td>\n",
       "    </tr>\n",
       "    <tr>\n",
       "      <th>34683</th>\n",
       "      <td>1101364889</td>\n",
       "      <td>0</td>\n",
       "    </tr>\n",
       "    <tr>\n",
       "      <th>34684</th>\n",
       "      <td>1101362518</td>\n",
       "      <td>0</td>\n",
       "    </tr>\n",
       "    <tr>\n",
       "      <th>34685</th>\n",
       "      <td>1101256068</td>\n",
       "      <td>0</td>\n",
       "    </tr>\n",
       "  </tbody>\n",
       "</table>\n",
       "<p>34686 rows × 2 columns</p>\n",
       "</div>"
      ],
      "text/plain": [
       "          sell_id  price\n",
       "0      1100575026      0\n",
       "1      1100549428      0\n",
       "2      1100658222      0\n",
       "3      1100937408      0\n",
       "4      1101037972      0\n",
       "...           ...    ...\n",
       "34681  1101369263      0\n",
       "34682  1101369581      0\n",
       "34683  1101364889      0\n",
       "34684  1101362518      0\n",
       "34685  1101256068      0\n",
       "\n",
       "[34686 rows x 2 columns]"
      ]
     },
     "execution_count": 107,
     "metadata": {},
     "output_type": "execute_result"
    }
   ],
   "source": [
    "sample_submission"
   ]
  },
  {
   "cell_type": "code",
   "execution_count": 112,
   "metadata": {},
   "outputs": [
    {
     "data": {
      "text/plain": [
       "Index(['sell_id', 'price_x', 'price_y'], dtype='object')"
      ]
     },
     "execution_count": 112,
     "metadata": {},
     "output_type": "execute_result"
    }
   ],
   "source": [
    "mdf = ans.merge(sample_submission, on = 'sell_id')\n",
    "mdf"
   ]
  },
  {
   "cell_type": "code",
   "execution_count": 113,
   "metadata": {},
   "outputs": [
    {
     "data": {
      "text/html": [
       "<div>\n",
       "<style scoped>\n",
       "    .dataframe tbody tr th:only-of-type {\n",
       "        vertical-align: middle;\n",
       "    }\n",
       "\n",
       "    .dataframe tbody tr th {\n",
       "        vertical-align: top;\n",
       "    }\n",
       "\n",
       "    .dataframe thead th {\n",
       "        text-align: right;\n",
       "    }\n",
       "</style>\n",
       "<table border=\"1\" class=\"dataframe\">\n",
       "  <thead>\n",
       "    <tr style=\"text-align: right;\">\n",
       "      <th></th>\n",
       "      <th>sell_id</th>\n",
       "      <th>price</th>\n",
       "    </tr>\n",
       "  </thead>\n",
       "  <tbody>\n",
       "    <tr>\n",
       "      <th>0</th>\n",
       "      <td>1100575026</td>\n",
       "      <td>682051.0</td>\n",
       "    </tr>\n",
       "    <tr>\n",
       "      <th>1</th>\n",
       "      <td>1100549428</td>\n",
       "      <td>976824.0</td>\n",
       "    </tr>\n",
       "    <tr>\n",
       "      <th>2</th>\n",
       "      <td>1100658222</td>\n",
       "      <td>925885.0</td>\n",
       "    </tr>\n",
       "    <tr>\n",
       "      <th>3</th>\n",
       "      <td>1100937408</td>\n",
       "      <td>844231.0</td>\n",
       "    </tr>\n",
       "    <tr>\n",
       "      <th>4</th>\n",
       "      <td>1101037972</td>\n",
       "      <td>882611.0</td>\n",
       "    </tr>\n",
       "    <tr>\n",
       "      <th>...</th>\n",
       "      <td>...</td>\n",
       "      <td>...</td>\n",
       "    </tr>\n",
       "    <tr>\n",
       "      <th>34681</th>\n",
       "      <td>1101369263</td>\n",
       "      <td>1010436.0</td>\n",
       "    </tr>\n",
       "    <tr>\n",
       "      <th>34682</th>\n",
       "      <td>1101369581</td>\n",
       "      <td>2377358.0</td>\n",
       "    </tr>\n",
       "    <tr>\n",
       "      <th>34683</th>\n",
       "      <td>1101364889</td>\n",
       "      <td>224676.0</td>\n",
       "    </tr>\n",
       "    <tr>\n",
       "      <th>34684</th>\n",
       "      <td>1101362518</td>\n",
       "      <td>1231048.0</td>\n",
       "    </tr>\n",
       "    <tr>\n",
       "      <th>34685</th>\n",
       "      <td>1101256068</td>\n",
       "      <td>1121577.0</td>\n",
       "    </tr>\n",
       "  </tbody>\n",
       "</table>\n",
       "<p>34686 rows × 2 columns</p>\n",
       "</div>"
      ],
      "text/plain": [
       "          sell_id      price\n",
       "0      1100575026   682051.0\n",
       "1      1100549428   976824.0\n",
       "2      1100658222   925885.0\n",
       "3      1100937408   844231.0\n",
       "4      1101037972   882611.0\n",
       "...           ...        ...\n",
       "34681  1101369263  1010436.0\n",
       "34682  1101369581  2377358.0\n",
       "34683  1101364889   224676.0\n",
       "34684  1101362518  1231048.0\n",
       "34685  1101256068  1121577.0\n",
       "\n",
       "[34686 rows x 2 columns]"
      ]
     },
     "execution_count": 113,
     "metadata": {},
     "output_type": "execute_result"
    }
   ],
   "source": [
    "mdf.drop('price_y', axis = 1, inplace = True)\n",
    "mdf.columns = ['sell_id', 'price']\n",
    "mdf"
   ]
  },
  {
   "cell_type": "code",
   "execution_count": 115,
   "metadata": {},
   "outputs": [],
   "source": [
    "mdf.to_csv('sample_submission.csv', index = False)"
   ]
  },
  {
   "cell_type": "code",
   "execution_count": null,
   "metadata": {},
   "outputs": [],
   "source": []
  }
 ],
 "metadata": {
  "kernelspec": {
   "display_name": "Python 3",
   "language": "python",
   "name": "python3"
  },
  "language_info": {
   "codemirror_mode": {
    "name": "ipython",
    "version": 3
   },
   "file_extension": ".py",
   "mimetype": "text/x-python",
   "name": "python",
   "nbconvert_exporter": "python",
   "pygments_lexer": "ipython3",
   "version": "3.7.6"
  }
 },
 "nbformat": 4,
 "nbformat_minor": 4
}
